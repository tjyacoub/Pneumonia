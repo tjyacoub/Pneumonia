{
 "cells": [
  {
   "cell_type": "code",
   "execution_count": 1,
   "metadata": {
    "collapsed": false
   },
   "outputs": [],
   "source": [
    "%matplotlib inline\n",
    "import matplotlib.pyplot as plt\n",
    "import numpy as np\n",
    "import pandas as pd\n",
    "from sklearn.decomposition import PCA\n",
    "from scipy.stats import zscore\n",
    "#import seaborn as sns\n",
    "from sklearn.cross_decomposition import PLSRegression\n",
    "from sklearn.svm import SVC\n",
    "from sklearn.ensemble import RandomForestRegressor\n",
    "from itertools import cycle\n",
    "import random\n",
    "from collections import Counter\n",
    "from tqdm import tqdm\n",
    "from vips import vipp"
   ]
  },
  {
   "cell_type": "code",
   "execution_count": 2,
   "metadata": {
    "collapsed": false
   },
   "outputs": [],
   "source": [
    "\n",
    "## ALREADY PREPROCESSED \n",
    "#### Min gene count = 0 for 15% of samples\n",
    "\n",
    "train_fpkm = pd.read_csv(\"../data/BAL/train_fpkm_minfilter0_log2.csv\",sep='\\t',index_col=0)\n",
    "train_meta = pd.read_csv('../data/BAL/Reseq_ALL/meta_reseq.csv', sep='\\t', index_col='sample_id')\n",
    "\n",
    "test_fpkm = pd.read_csv(\"../data/BAL/test_fpkm_minfilter0_log2.csv\", sep='\\t', index_col=0)\n",
    "test_meta = pd.read_csv('../data/BAL/meta_r0.csv', sep='\\t', index_col=0)\n"
   ]
  },
  {
   "cell_type": "code",
   "execution_count": 3,
   "metadata": {
    "collapsed": false
   },
   "outputs": [
    {
     "name": "stdout",
     "output_type": "stream",
     "text": [
      "(32, 26081) (32, 2)\n",
      "(95, 11957) (95, 32)\n"
     ]
    }
   ],
   "source": [
    "print test_fpkm.shape, test_meta.shape\n",
    "print train_fpkm.shape, train_meta.shape"
   ]
  },
  {
   "cell_type": "code",
   "execution_count": 4,
   "metadata": {
    "collapsed": false
   },
   "outputs": [],
   "source": [
    "train_meta['sum_fpkm'] = train_fpkm.apply(lambda x: np.sum(x), axis=1)\n",
    "test_meta['sum_fpkm'] = test_fpkm.apply(lambda x: np.sum(x), axis=1)"
   ]
  },
  {
   "cell_type": "code",
   "execution_count": 5,
   "metadata": {
    "collapsed": false
   },
   "outputs": [
    {
     "data": {
      "text/plain": [
       "[<matplotlib.lines.Line2D at 0x10b101390>]"
      ]
     },
     "execution_count": 5,
     "metadata": {},
     "output_type": "execute_result"
    },
    {
     "data": {
      "image/png": "[encoded data removed]",
      "text/plain": [
       "<matplotlib.figure.Figure at 0x10aa7bed0>"
      ]
     },
     "metadata": {},
     "output_type": "display_data"
    }
   ],
   "source": [
    "plt.plot(sorted(train_meta['sum_fpkm']))"
   ]
  },
  {
   "cell_type": "markdown",
   "metadata": {},
   "source": [
    "### Optional filtering by total fpkm count"
   ]
  },
  {
   "cell_type": "code",
   "execution_count": 6,
   "metadata": {
    "collapsed": true
   },
   "outputs": [],
   "source": [
    "#test_meta = test_meta[test_meta['sum_fpkm'] > 15000]\n",
    "#train_meta = train_meta[train_meta['sum_fpkm'] > 10000]\n",
    "\n",
    "#test_fpkm =  test_fpkm.ix[test_meta.index]\n",
    "#train_fpkm = train_fpkm.ix[train_meta.index]"
   ]
  },
  {
   "cell_type": "code",
   "execution_count": 6,
   "metadata": {
    "collapsed": false
   },
   "outputs": [
    {
     "data": {
      "text/plain": [
       "((32, 3), (95, 33))"
      ]
     },
     "execution_count": 6,
     "metadata": {},
     "output_type": "execute_result"
    }
   ],
   "source": [
    "test_meta.shape, train_meta.shape"
   ]
  },
  {
   "cell_type": "markdown",
   "metadata": {},
   "source": [
    "### exclude BAL 18,19"
   ]
  },
  {
   "cell_type": "code",
   "execution_count": 7,
   "metadata": {
    "collapsed": false
   },
   "outputs": [],
   "source": [
    "to_remove = ['BAL18','BAL19']\n",
    "new_index = [i for i in train_fpkm.index if not any(rem in i for rem in to_remove)]\n",
    "train_fpkm = train_fpkm.ix[new_index]\n",
    "train_meta = train_meta.ix[new_index]"
   ]
  },
  {
   "cell_type": "code",
   "execution_count": 8,
   "metadata": {
    "collapsed": false
   },
   "outputs": [
    {
     "data": {
      "text/plain": [
       "False    60\n",
       "True     34\n",
       "Name: Pneum, dtype: int64"
      ]
     },
     "execution_count": 8,
     "metadata": {},
     "output_type": "execute_result"
    }
   ],
   "source": [
    "train_meta['Pneum'].value_counts()"
   ]
  },
  {
   "cell_type": "markdown",
   "metadata": {},
   "source": [
    "## Reclassify, Based on Mac's email 9/14/17"
   ]
  },
  {
   "cell_type": "code",
   "execution_count": 9,
   "metadata": {
    "collapsed": false
   },
   "outputs": [
    {
     "data": {
      "text/plain": [
       "array(['BAL28', 'BAL38', 'BAL48', 'BAL53', 'BAL55', 'BAL64', 'BAL75',\n",
       "       'BAL75', 'BAL79', 'BAL87', 'BAL87', 'BAL28', 'BAL33', 'BAL33',\n",
       "       'BAL38', 'BAL45', 'BAL46', 'BAL46', 'BAL49', 'BAL50', 'BAL51',\n",
       "       'BAL51', 'BAL53', 'BAL55', 'BAL57', 'BAL60', 'BAL60', 'BAL67',\n",
       "       'BAL67', 'BAL79', 'BAL83', 'BAL83', 'BAL86', 'BAL86'], dtype=object)"
      ]
     },
     "execution_count": 9,
     "metadata": {},
     "output_type": "execute_result"
    }
   ],
   "source": [
    "old_pos = train_meta[train_meta['Pneum']==True]\n",
    "old_pos_bals = old_pos['BAL'].values\n",
    "old_pos_bals"
   ]
  },
  {
   "cell_type": "code",
   "execution_count": 10,
   "metadata": {
    "collapsed": false
   },
   "outputs": [],
   "source": [
    "## Based on Mac's email 9/14/17\n",
    "f = open('../data/BAL/final_positives.txt','r').readlines()\n",
    "new_pos_bals = np.array([str('BAL' + i).rstrip() for i in f if len(i)>1])"
   ]
  },
  {
   "cell_type": "code",
   "execution_count": 11,
   "metadata": {
    "collapsed": false
   },
   "outputs": [
    {
     "data": {
      "text/plain": [
       "(29,)"
      ]
     },
     "execution_count": 11,
     "metadata": {},
     "output_type": "execute_result"
    }
   ],
   "source": [
    "new_pos_bals.shape"
   ]
  },
  {
   "cell_type": "code",
   "execution_count": 12,
   "metadata": {
    "collapsed": false
   },
   "outputs": [
    {
     "data": {
      "text/plain": [
       "False    60\n",
       "True     34\n",
       "Name: Pneum, dtype: int64"
      ]
     },
     "execution_count": 12,
     "metadata": {},
     "output_type": "execute_result"
    }
   ],
   "source": [
    "train_meta['Pneum'] = train_meta['BAL'].map(lambda x: x in new_pos_bals)\n",
    "train_meta['Pneum'].value_counts()"
   ]
  },
  {
   "cell_type": "code",
   "execution_count": 13,
   "metadata": {
    "collapsed": false
   },
   "outputs": [
    {
     "data": {
      "text/plain": [
       "(94, 33)"
      ]
     },
     "execution_count": 13,
     "metadata": {},
     "output_type": "execute_result"
    }
   ],
   "source": [
    "train_meta.shape"
   ]
  },
  {
   "cell_type": "markdown",
   "metadata": {},
   "source": [
    "## Functions for ML algorithms, AUROC"
   ]
  },
  {
   "cell_type": "code",
   "execution_count": 14,
   "metadata": {
    "collapsed": true
   },
   "outputs": [],
   "source": [
    "### Used to get X y data from original counts dataframe. \n",
    "### We decided to use sampling=None as up/down-sampling are not easy to intrepret.\n",
    "\n",
    "def geteven_xy(df, dfm, celltype, sampling=None, norm='zscore'):\n",
    "    \n",
    "    '''\n",
    "    df -> counts\n",
    "    dfm -> meta data\n",
    "    celltype -> 'AM' or 'CD163'\n",
    "    sampling -> 'up', 'down', or None\n",
    "    normalization -> zscore, 'zero_one' (scales data from 0 to 1), or None\n",
    "    \n",
    "    '''\n",
    "    \n",
    "    dfm = dfm[dfm['CellType']==celltype]\n",
    "    y = dfm['Pneum'].values\n",
    "    df = df.ix[dfm.index]\n",
    "    #    if z: df = df.apply(lambda x: zscore(x))\n",
    "    genes = df.columns\n",
    "    pos = [i for i in range(len(y)) if y[i]==True]\n",
    "    neg = [i for i in range(len(y)) if y[i]==False]\n",
    "    \n",
    "    npos = len(pos)\n",
    "    nneg = len(neg)\n",
    "\n",
    "    #print \"Num positive: {}\".format(len(pos))\n",
    "    #print \"Num negative: {}\".format(len(neg))\n",
    "    if sampling=='down':\n",
    "        if nneg >= npos:\n",
    "            neg = random.sample(neg, npos)\n",
    "        else:\n",
    "            pos = random.sample(pos, nneg)\n",
    "    if sampling=='up':\n",
    "        if nneg >= npos:\n",
    "            dup_pos = list(np.random.choice(pos, nneg-npos))\n",
    "            pos = pos + dup_pos ## pos+pos in case not enough in pos\n",
    "    #            print \"duplicated pos:\", dup_pos\n",
    "        else:\n",
    "            neg = neg + np.random.choice(neg, npos-nneg)\n",
    "\n",
    "    df = df.ix[(pos+neg),:]\n",
    "    if norm=='zero_one': \n",
    "        for col in df.columns:\n",
    "            mx = np.max(df[col])\n",
    "            mn = np.min(df[col])\n",
    "            df[col] = df[col].map(lambda x: (x - mn)/(mx - mn))\n",
    "            \n",
    "    if norm=='zscore': \n",
    "        df = df.apply(lambda x: zscore(x))\n",
    "\n",
    "    dfm = dfm.ix[(pos+neg),:]\n",
    "    X = np.array(df)\n",
    "    y = dfm['Pneum'].values\n",
    "    print \"Num pos after sampling: {}\".format(len(pos))\n",
    "    print \"Num neg after sampling: {}\".format(len(neg))\n",
    "    #y = y[pos + neg] \n",
    "    #X = X[pos + neg] \n",
    "    return X,y, genes, df, dfm"
   ]
  },
  {
   "cell_type": "markdown",
   "metadata": {},
   "source": [
    "### Run the models"
   ]
  },
  {
   "cell_type": "code",
   "execution_count": 22,
   "metadata": {
    "collapsed": false
   },
   "outputs": [],
   "source": [
    "def run_model(celltype, n_top_genes, response='original', method='PLSR', data='all',\n",
    "                       norm=False, random_genes=False, jumble_test=False, jumble_train=False,\n",
    "                       npcs=5, n_estimators=100, sampling=False, cross_validation='LOO'):\n",
    "      \n",
    "    '''\n",
    "    Retrieves training data, gets top features using cross-validation.\n",
    "    Retreives test data, filters to top features, predicts.\n",
    "    \n",
    "    jumble_train -> jumbles each gene vector in the training data\n",
    "    n_pcs and n_estimators are for PLSR and RandomForests, respectively\n",
    "    cross_validation can be leave-one-out (LOO) or Kfold\n",
    "    random_genes is used as a null model, asking whether the top genes are really better than random.\n",
    "    \n",
    "    '''\n",
    "    \n",
    "    ### TRAINING\n",
    "    #################\n",
    "        \n",
    "    print \"Model = \", celltype\n",
    "    print \"Method = \", method\n",
    "    #print \"N_Top_Genes = \", n_top_genes\n",
    "    print \"Normalization = \", norm\n",
    "    \n",
    "    # Get training data\n",
    "    if response=='original': dfm = train_meta\n",
    "    elif response=='oral': dfm = oral_meta\n",
    "        \n",
    "    X, y, genes, df, dfm = geteven_xy(train_fpkm, train_meta, celltype=celltype, norm=norm, sampling=sampling)\n",
    "     \n",
    "    if jumble_train:\n",
    "        print \"---- Entire training set is jumbled ----\\n\"\n",
    "        df = df.apply(np.random.permutation)\n",
    "        X = np.array(df)\n",
    "        \n",
    "    # Get top features using cross-validation\n",
    "    ##############\n",
    "    feature_inds = get_top_genes_cross_validation(X, y, \n",
    "                            method=method, cross_validation=cross_validation, \n",
    "                            n_pcs=npcs, n_estimators=n_estimators, n_top_genes=n_top_genes)\n",
    "\n",
    "    ## TRAIN METRICS\n",
    "    #print \"Q Squared: {0:.2f} \\n\".format(Q2)\n",
    "    #num_neg_correct = sum([(e < 0.5) for e in neg_err])\n",
    "    #num_pos_correct = sum([(e < 0.5) for e in pos_err])\n",
    "    \n",
    "    #print \"\\n===== Training ======\"\n",
    "    #print \"Negative: {0:.3f} ({1}/{2}) \".format(neg_accuracy_train, num_neg_correct, len(neg_err))\n",
    "    #print \"Positive: {0:.3f} ({1}/{2}) \".format(pos_accuracy_train, num_pos_correct, len(pos_err))\n",
    "    \n",
    "    \n",
    "    ## Get most common genes from each LOO model\n",
    "    ##############\n",
    "    all_top_feature_inds = [g for m in feature_inds for g in m]\n",
    "    c = Counter(all_top_feature_inds)\n",
    "    top_inds = [i[0] for i in c.most_common(n_top_genes)]\n",
    "    top_genes_train = [genes[i] for i in top_inds]\n",
    "    \n",
    "    \n",
    "    ## SWITCH OUT TOP GENES WITH RANDOM GENES\n",
    "    ##############\n",
    "    if random_genes:\n",
    "        top_genes_train = np.random.choice(genes, n_top_genes)\n",
    "        print \"\\n **Genes for testing are RANDOM** \\n\"\n",
    "\n",
    "    \n",
    "    ### BUILDING PREDICTIVE MODEL with top genes\n",
    "    ##############\n",
    "    X_train = np.array(df[top_genes_train])\n",
    "    y_train = np.array(dfm['Pneum'])\n",
    "    \n",
    "    \n",
    "    ### GET TEST SET, FILTER TO HAVE ONLY TOP FEATURES\n",
    "    ############\n",
    "    X_test, y_test, genes_test, df_test, dfm_test = geteven_xy(test_fpkm, test_meta, celltype=celltype, norm=norm, sampling=False)\n",
    "    X_test = np.array(df_test[top_genes_train])\n",
    "    \n",
    "    ### TESTING WITH ACTUAL (non-jumbled) GENES\n",
    "    ###############\n",
    "    print \"\\n===== Testing =====\"\n",
    "    \n",
    "    if method=='PLSR': \n",
    "        model = PLSRegression(5, scale=True)\n",
    "    elif method=='RandomForests': \n",
    "        model = RandomForestRegressor(n_estimators=n_estimators)\n",
    "    else: \n",
    "        print \"Method {} not recognized\".format(method)\n",
    "\n",
    "    model.fit(X_train, y_train)\n",
    "    y_pred = model.predict(X_test)\n",
    "    auroc_data = auroc_calc(y_test, y_pred, print_stats=True)\n",
    "\n",
    "    return auroc_data"
   ]
  },
  {
   "cell_type": "markdown",
   "metadata": {},
   "source": [
    "### Calculate cross-validation metrics, retrieve top genes"
   ]
  },
  {
   "cell_type": "code",
   "execution_count": 16,
   "metadata": {
    "collapsed": false
   },
   "outputs": [],
   "source": [
    "def get_top_genes_cross_validation(X, y, n_pcs, n_estimators, n_top_genes, method='PLSR', cross_validation='LOO', k=5, n_splits=10):\n",
    "\n",
    "    '''\n",
    "    This function takes X and y data, and does cross-validation \n",
    "    to get training statistics and a list of the n_top_genes most predictive genes. \n",
    "    \n",
    "    Can do leave-one-out cross-validation ('LOO') or k-folds ('Kfold')\n",
    "    Can do PLSR or RandomForests\n",
    "    '''\n",
    "    \n",
    "    n_samples = len(X)\n",
    "    pred = []\n",
    "    feat_inds_all = []\n",
    "    #print X.shape, y.shape\n",
    "    \n",
    "    ### Leave-One-Out Cross-validation\n",
    "    \n",
    "    if cross_validation=='LOO':\n",
    "        for sample in range(n_samples):\n",
    "            samples = range(n_samples)\n",
    "            samples.remove(sample)\n",
    "            X_train = X[(samples)]\n",
    "            y_train = y[(samples)]\n",
    "            #print X_t.shape    \n",
    "\n",
    "            if method=='PLSR':### Get VIPs for model built without the LOO sample\n",
    "                plsv = PLSRegression(n_pcs, scale=False)\n",
    "                plsv.fit(X_train, y_train)\n",
    "                vips = vipp(X_train, y_train, plsv.x_scores_, plsv.x_weights_)\n",
    "                vips = [float(v) for v in vips]\n",
    "                vip_inds = np.argsort(vips)[::-1][:n_top_genes]\n",
    "                feat_inds_all.append(vip_inds)\n",
    "\n",
    "                ### Xn takes the original X to get the loo sample\n",
    "                X_top_features = X.T[vip_inds].T\n",
    "                loo_sample = np.array(X_top_features[sample]).reshape((1,-1))\n",
    "\n",
    "                ### Filter the samples \n",
    "                X_train_top_features = X_train.T[vip_inds].T\n",
    "                pls = PLSRegression(n_pcs, scale=False)\n",
    "                pls.fit(X_train_top_features, y_train)\n",
    "                pred.append(float(pls.predict(loo_sample)))\n",
    "\n",
    "\n",
    "            elif method=='RandomForests':        ### Get VIPs for model built without the LOO sample\n",
    "                rfc = RandomForestRegressor(n_estimators=n_estimators)\n",
    "                rfc.fit(X_train, y_train)\n",
    "                feat_imp = rfc.feature_importances_\n",
    "                feat_inds = np.argsort(feat_imp)[::-1][:n_top_genes]\n",
    "                feat_inds_all.append(feat_inds)\n",
    "                \n",
    "                ### Xn takes the original X to get the loo sample\n",
    "                X_top_features = X.T[feat_inds].T\n",
    "                loo_sample = np.array(X_top_features[sample]).reshape((1,-1))\n",
    "\n",
    "                ### Filter the samples \n",
    "                X_train_top_features = X_train.T[feat_inds].T\n",
    "                rfc = RandomForestRegressor(n_estimators=n_estimators)\n",
    "                rfc.fit(X_train_top_features, y_train)\n",
    "\n",
    "                #print \"prediction: \", float(rfc.predict(loo_sample))\n",
    "                pred.append(float(rfc.predict(loo_sample)))\n",
    "\n",
    "            else:\n",
    "                print \"Method {} not found\".format(method)\n",
    "\n",
    "    elif cross_validation=='Kfold':\n",
    "        y_k = []\n",
    "        for ki in range(n_splits):\n",
    "            sample_ind = range(n_samples)\n",
    "            withheld_samples = random.sample(sample_ind, k)\n",
    "            lo_samples = X[withheld_samples]\n",
    "            for s in withheld_samples:\n",
    "                sample_ind.remove(s)\n",
    "            X_train = X[(sample_ind)]\n",
    "            y_train = y[(sample_ind)]\n",
    "            \n",
    "            if method=='PLSR':\n",
    "                model = PLSRegression(n_pcs, scale=False)\n",
    "                model.fit(X_train, y_train)\n",
    "                vips = vipp(X_train, y_train, model.x_scores_, model.x_weights_)\n",
    "                vips = [float(v) for v in vips]\n",
    "                vip_inds = np.argsort(vips)[::-1][:n_top_genes]\n",
    "                feat_inds_all.append(vip_inds)\n",
    "\n",
    "                ### Filter the samples \n",
    "                X_train_top_features = X_train.T[vip_inds].T\n",
    "                model = PLSRegression(n_pcs, scale=False)\n",
    "                model.fit(X_train_top_features, y_train)\n",
    "                #pred.append(float(.predict(loo_sample)))\n",
    "                \n",
    "                ### Xn takes the original X to get the loo sample\n",
    "                X_top_features = X.T[vip_inds].T\n",
    "                \n",
    "            elif method=='RandomForests':\n",
    "                model = RandomForestRegressor(n_estimators=n_estimators)\n",
    "                feat_imp = rfc.feature_importances_\n",
    "                feat_inds = np.argsort(feat_imp)[::-1][:n_top_genes]\n",
    "                feat_inds_all.append(feat_inds)\n",
    "                \n",
    "                ### Filter the samples \n",
    "                X_train_top_features = X_train.T[vip_inds].T\n",
    "                model = PLSRegression(n_pcs, scale=False)\n",
    "                model.fit(X_train_top_features, y_train)\n",
    "                \n",
    "                X_top_features = X.T[vip_inds].T\n",
    "                \n",
    "            elif method=='SVM':\n",
    "                model = SVC()\n",
    "            else:\n",
    "                print \"Method not found\"\n",
    "            \n",
    "            for s in withheld_samples:\n",
    "                pred.append(float(model.predict(X_top_features[s].reshape((1, -1)))))\n",
    "                y_k.append(y[s])\n",
    "        y = y_k\n",
    "\n",
    "    return feat_inds_all\n"
   ]
  },
  {
   "cell_type": "markdown",
   "metadata": {},
   "source": [
    "### Calculation the Area Under Reciever Operating Curve (AUROC)"
   ]
  },
  {
   "cell_type": "code",
   "execution_count": 17,
   "metadata": {
    "collapsed": true
   },
   "outputs": [],
   "source": [
    "def auroc_calc(y_test, y_pred, print_stats=False):\n",
    "\n",
    "    neg_preds = sorted([y_pred[i] for i in range(len(y_pred)) if y_test[i]==0])\n",
    "    pos_preds = sorted([y_pred[i] for i in range(len(y_pred)) if y_test[i]==1])\n",
    "    \n",
    "    ### Plot predictions\n",
    "#     plt.plot(neg_preds, label='neg')\n",
    "#     plt.plot(pos_preds, label='pos')\n",
    "#     plt.xlabel(\"Sample index\")\n",
    "#     plt.ylabel(\"Prediction\")\n",
    "#     plt.legend()\n",
    "\n",
    "    ### Iterate over various cutoffs (c) (default is c=0.5)\n",
    "    ### Analogous to lowering and raising a horizontal bar in the prediction figure above.\n",
    "    \n",
    "    auroc_data = []\n",
    "    for c in np.arange(-1, 2, 0.01):\n",
    "        \n",
    "        # TPR = # correctly classified negatives / total negatives\n",
    "        neg_corr = sum([(pred < c) for pred in neg_preds])\n",
    "        TNR = float(neg_corr) / len(neg_preds)\n",
    "        \n",
    "        pos_corr = sum([(e > c) for e in pos_preds])\n",
    "        FNR = 1 - ( float(pos_corr) / len(pos_preds) )\n",
    "                   \n",
    "        auroc_data.append((FNR, TNR))\n",
    "\n",
    "    return auroc_data"
   ]
  },
  {
   "cell_type": "code",
   "execution_count": null,
   "metadata": {
    "collapsed": true
   },
   "outputs": [],
   "source": [
    "#1 #2 #3"
   ]
  },
  {
   "cell_type": "code",
   "execution_count": 40,
   "metadata": {
    "collapsed": false
   },
   "outputs": [],
   "source": [
    "def auc_calc(auroc_data):\n",
    "    x_prev = 0\n",
    "    area = 0\n",
    "    for d in auroc_data:\n",
    "        x, y = d\n",
    "        if x > x_prev:\n",
    "            #print x, x_prev\n",
    "            area += (x - x_prev) * y\n",
    "            x_prev = x\n",
    "    return area\n",
    "    "
   ]
  },
  {
   "cell_type": "code",
   "execution_count": 30,
   "metadata": {
    "collapsed": false
   },
   "outputs": [
    {
     "name": "stdout",
     "output_type": "stream",
     "text": [
      "0.166666666667 0\n",
      "0.333333333333 0.166666666667\n",
      "0.5 0.333333333333\n",
      "0.666666666667 0.5\n",
      "0.833333333333 0.666666666667\n",
      "1.0 0.833333333333\n"
     ]
    },
    {
     "data": {
      "text/plain": [
       "0.8214285714285714"
      ]
     },
     "execution_count": 30,
     "metadata": {},
     "output_type": "execute_result"
    }
   ],
   "source": [
    "auc_calc(auroc_am_plsr_100)"
   ]
  },
  {
   "cell_type": "markdown",
   "metadata": {},
   "source": [
    "### Now actually run functions "
   ]
  },
  {
   "cell_type": "markdown",
   "metadata": {},
   "source": [
    "### AM,"
   ]
  },
  {
   "cell_type": "code",
   "execution_count": 34,
   "metadata": {
    "collapsed": false,
    "scrolled": true
   },
   "outputs": [
    {
     "name": "stdout",
     "output_type": "stream",
     "text": [
      "Model =  AM\n",
      "Method =  PLSR\n",
      "Normalization =  zscore\n",
      "Num pos after sampling: 19\n",
      "Num neg after sampling: 30\n",
      "Num pos after sampling: 6\n",
      "Num neg after sampling: 14\n",
      "\n",
      "===== Testing =====\n"
     ]
    }
   ],
   "source": [
    "auroc_am_plsr_100 = run_model(celltype='AM', response='original', n_top_genes=100, jumble_train=False, data='half',\n",
    "                method='PLSR', norm='zscore', random_genes=False, jumble_test=False, sampling='', cross_validation='LOO')"
   ]
  },
  {
   "cell_type": "code",
   "execution_count": 35,
   "metadata": {
    "collapsed": false,
    "scrolled": true
   },
   "outputs": [
    {
     "name": "stdout",
     "output_type": "stream",
     "text": [
      "Model =  AM\n",
      "Method =  PLSR\n",
      "Normalization =  zscore\n",
      "Num pos after sampling: 19\n",
      "Num neg after sampling: 30\n",
      "Num pos after sampling: 6\n",
      "Num neg after sampling: 14\n",
      "\n",
      "===== Testing =====\n"
     ]
    }
   ],
   "source": [
    "auroc_am_plsr_11 = run_model(celltype='AM', response='original', n_top_genes=11, jumble_train=False,\n",
    "                method='PLSR', norm='zscore', random_genes=False, jumble_test=False, sampling='', cross_validation='LOO')"
   ]
  },
  {
   "cell_type": "code",
   "execution_count": 38,
   "metadata": {
    "collapsed": false,
    "scrolled": false
   },
   "outputs": [
    {
     "name": "stdout",
     "output_type": "stream",
     "text": [
      "Model =  AM\n",
      "Method =  RandomForests\n",
      "Normalization =  zscore\n",
      "Num pos after sampling: 19\n",
      "Num neg after sampling: 30\n",
      "Num pos after sampling: 6\n",
      "Num neg after sampling: 14\n",
      "\n",
      "===== Testing =====\n"
     ]
    }
   ],
   "source": [
    "auroc_am_rf_100 = run_model(celltype='AM', response='original', n_top_genes=100, jumble_train=False, \n",
    "                            method='RandomForests', norm='zscore', random_genes=False, jumble_test=False, sampling='', cross_validation='LOO')"
   ]
  },
  {
   "cell_type": "code",
   "execution_count": 63,
   "metadata": {
    "collapsed": true
   },
   "outputs": [],
   "source": [
    "from scipy import stats"
   ]
  },
  {
   "cell_type": "code",
   "execution_count": 64,
   "metadata": {
    "collapsed": true
   },
   "outputs": [],
   "source": [
    "conf_int = stats.norm.interval(0.95, loc=np.mean(aucs_am_rf_100), scale=np.std(aucs_am_rf_100))"
   ]
  },
  {
   "cell_type": "code",
   "execution_count": 77,
   "metadata": {
    "collapsed": false
   },
   "outputs": [
    {
     "name": "stdout",
     "output_type": "stream",
     "text": [
      "Mean: 0.89, Std: 0.03\n",
      "95% CI (0.82070342724965628, 0.95310609655986789)\n"
     ]
    }
   ],
   "source": [
    "print_stats(aucs_am_rf_100)"
   ]
  },
  {
   "cell_type": "code",
   "execution_count": 75,
   "metadata": {
    "collapsed": false
   },
   "outputs": [
    {
     "name": "stdout",
     "output_type": "stream",
     "text": [
      "Mean: 0.72, Std: 0.07\n",
      "95% CI (0.58543391572221126, 0.85028036999207424)\n"
     ]
    }
   ],
   "source": [
    "print_stats(aucs_am_rf_11)"
   ]
  },
  {
   "cell_type": "code",
   "execution_count": 68,
   "metadata": {
    "collapsed": false
   },
   "outputs": [
    {
     "data": {
      "text/plain": [
       "[0.8333333333333334,\n",
       " 0.9047619047619049,\n",
       " 0.892857142857143,\n",
       " 0.9047619047619049,\n",
       " 0.9047619047619049,\n",
       " 0.9166666666666667,\n",
       " 0.9047619047619049,\n",
       " 0.9047619047619049,\n",
       " 0.8095238095238095,\n",
       " 0.892857142857143]"
      ]
     },
     "execution_count": 68,
     "metadata": {},
     "output_type": "execute_result"
    }
   ],
   "source": [
    "aucs_am_rf_100"
   ]
  },
  {
   "cell_type": "code",
   "execution_count": 60,
   "metadata": {
    "collapsed": false
   },
   "outputs": [
    {
     "name": "stderr",
     "output_type": "stream",
     "text": [
      "\r",
      "  0%|          | 0/10 [00:00<?, ?it/s]"
     ]
    },
    {
     "name": "stdout",
     "output_type": "stream",
     "text": [
      "Model =  AM\n",
      "Method =  RandomForests\n",
      "Normalization =  zscore\n",
      "Num pos after sampling: 19\n",
      "Num neg after sampling: 30\n",
      "Num pos after sampling: 6\n",
      "Num neg after sampling: 14\n",
      "\n",
      "===== Testing =====\n"
     ]
    },
    {
     "name": "stderr",
     "output_type": "stream",
     "text": [
      "\r",
      " 10%|█         | 1/10 [03:58<35:42, 238.11s/it]"
     ]
    },
    {
     "name": "stdout",
     "output_type": "stream",
     "text": [
      "Model =  AM\n",
      "Method =  RandomForests\n",
      "Normalization =  zscore\n",
      "Num pos after sampling: 19\n",
      "Num neg after sampling: 30\n",
      "Num pos after sampling: 6\n",
      "Num neg after sampling: 14\n",
      "\n",
      "===== Testing =====\n"
     ]
    },
    {
     "name": "stderr",
     "output_type": "stream",
     "text": [
      "\r",
      " 20%|██        | 2/10 [07:54<31:40, 237.55s/it]"
     ]
    },
    {
     "name": "stdout",
     "output_type": "stream",
     "text": [
      "Model =  AM\n",
      "Method =  RandomForests\n",
      "Normalization =  zscore\n",
      "Num pos after sampling: 19\n",
      "Num neg after sampling: 30\n",
      "Num pos after sampling: 6\n",
      "Num neg after sampling: 14\n",
      "\n",
      "===== Testing =====\n"
     ]
    },
    {
     "name": "stderr",
     "output_type": "stream",
     "text": [
      "\r",
      " 30%|███       | 3/10 [11:50<27:39, 237.13s/it]"
     ]
    },
    {
     "name": "stdout",
     "output_type": "stream",
     "text": [
      "Model =  AM\n",
      "Method =  RandomForests\n",
      "Normalization =  zscore\n",
      "Num pos after sampling: 19\n",
      "Num neg after sampling: 30\n",
      "Num pos after sampling: 6\n",
      "Num neg after sampling: 14\n",
      "\n",
      "===== Testing =====\n"
     ]
    },
    {
     "name": "stderr",
     "output_type": "stream",
     "text": [
      "\r",
      " 40%|████      | 4/10 [15:45<23:39, 236.50s/it]"
     ]
    },
    {
     "name": "stdout",
     "output_type": "stream",
     "text": [
      "Model =  AM\n",
      "Method =  RandomForests\n",
      "Normalization =  zscore\n",
      "Num pos after sampling: 19\n",
      "Num neg after sampling: 30\n",
      "Num pos after sampling: 6\n",
      "Num neg after sampling: 14\n",
      "\n",
      "===== Testing =====\n"
     ]
    },
    {
     "name": "stderr",
     "output_type": "stream",
     "text": [
      "\r",
      " 50%|█████     | 5/10 [19:40<19:40, 236.10s/it]"
     ]
    },
    {
     "name": "stdout",
     "output_type": "stream",
     "text": [
      "Model =  AM\n",
      "Method =  RandomForests\n",
      "Normalization =  zscore\n",
      "Num pos after sampling: 19\n",
      "Num neg after sampling: 30\n",
      "Num pos after sampling: 6\n",
      "Num neg after sampling: 14\n",
      "\n",
      "===== Testing =====\n"
     ]
    },
    {
     "name": "stderr",
     "output_type": "stream",
     "text": [
      "\r",
      " 60%|██████    | 6/10 [23:35<15:43, 235.83s/it]"
     ]
    },
    {
     "name": "stdout",
     "output_type": "stream",
     "text": [
      "Model =  AM\n",
      "Method =  RandomForests\n",
      "Normalization =  zscore\n",
      "Num pos after sampling: 19\n",
      "Num neg after sampling: 30\n",
      "Num pos after sampling: 6\n",
      "Num neg after sampling: 14\n",
      "\n",
      "===== Testing =====\n"
     ]
    },
    {
     "name": "stderr",
     "output_type": "stream",
     "text": [
      "\r",
      " 70%|███████   | 7/10 [27:31<11:47, 235.81s/it]"
     ]
    },
    {
     "name": "stdout",
     "output_type": "stream",
     "text": [
      "Model =  AM\n",
      "Method =  RandomForests\n",
      "Normalization =  zscore\n",
      "Num pos after sampling: 19\n",
      "Num neg after sampling: 30\n",
      "Num pos after sampling: 6\n",
      "Num neg after sampling: 14\n",
      "\n",
      "===== Testing =====\n"
     ]
    },
    {
     "name": "stderr",
     "output_type": "stream",
     "text": [
      "\r",
      " 80%|████████  | 8/10 [31:29<07:52, 236.35s/it]"
     ]
    },
    {
     "name": "stdout",
     "output_type": "stream",
     "text": [
      "Model =  AM\n",
      "Method =  RandomForests\n",
      "Normalization =  zscore\n",
      "Num pos after sampling: 19\n",
      "Num neg after sampling: 30\n",
      "Num pos after sampling: 6\n",
      "Num neg after sampling: 14\n",
      "\n",
      "===== Testing =====\n"
     ]
    },
    {
     "name": "stderr",
     "output_type": "stream",
     "text": [
      "\r",
      " 90%|█████████ | 9/10 [35:24<03:56, 236.16s/it]"
     ]
    },
    {
     "name": "stdout",
     "output_type": "stream",
     "text": [
      "Model =  AM\n",
      "Method =  RandomForests\n",
      "Normalization =  zscore\n",
      "Num pos after sampling: 19\n",
      "Num neg after sampling: 30\n",
      "Num pos after sampling: 6\n",
      "Num neg after sampling: 14\n",
      "\n",
      "===== Testing =====\n"
     ]
    },
    {
     "name": "stderr",
     "output_type": "stream",
     "text": [
      "100%|██████████| 10/10 [39:21<00:00, 236.22s/it]\n"
     ]
    }
   ],
   "source": [
    "aucs_am_rf_100 = []\n",
    "for i in tqdm(range(10)):\n",
    "    auroc = run_model(celltype='AM', response='original', n_top_genes=100, jumble_train=False, \n",
    "            method='RandomForests', norm='zscore', random_genes=False, jumble_test=False, sampling='', cross_validation='LOO')\n",
    "    auc = auc_calc(auroc)\n",
    "    aucs_am_rf_100.append(auc)\n",
    "    "
   ]
  },
  {
   "cell_type": "code",
   "execution_count": 39,
   "metadata": {
    "collapsed": false,
    "scrolled": false
   },
   "outputs": [
    {
     "name": "stdout",
     "output_type": "stream",
     "text": [
      "Model =  AM\n",
      "Method =  RandomForests\n",
      "Normalization =  zscore\n",
      "Num pos after sampling: 19\n",
      "Num neg after sampling: 30\n",
      "Num pos after sampling: 6\n",
      "Num neg after sampling: 14\n",
      "\n",
      "===== Testing =====\n"
     ]
    }
   ],
   "source": [
    "auroc_am_rf_11 = run_model(celltype='AM', response='original', n_top_genes=11, jumble_train=False, method='RandomForests', \n",
    "                       norm='zscore', random_genes=False, jumble_test=False, sampling='', cross_validation='LOO')"
   ]
  },
  {
   "cell_type": "code",
   "execution_count": 73,
   "metadata": {
    "collapsed": true
   },
   "outputs": [],
   "source": [
    "def print_stats(d):\n",
    "    mu = np.mean(d)\n",
    "    std = np.std(d)\n",
    "    print \"Mean: {0:.2f}, Std: {1:.2f}\".format(mu,std)\n",
    "    print \"95% CI\", stats.norm.interval(0.95, loc=mu, scale=std)"
   ]
  },
  {
   "cell_type": "code",
   "execution_count": 74,
   "metadata": {
    "collapsed": false
   },
   "outputs": [
    {
     "name": "stdout",
     "output_type": "stream",
     "text": [
      "Mean: 0.72, Std: 0.07\n",
      "95% CI (0.58543391572221126, 0.85028036999207424)\n"
     ]
    }
   ],
   "source": [
    "print_stats(aucs_am_rf_11)"
   ]
  },
  {
   "cell_type": "code",
   "execution_count": 67,
   "metadata": {
    "collapsed": false
   },
   "outputs": [
    {
     "data": {
      "text/plain": [
       "[0.738095238095238,\n",
       " 0.6904761904761905,\n",
       " 0.6904761904761906,\n",
       " 0.7976190476190476,\n",
       " 0.8333333333333335,\n",
       " 0.6428571428571428,\n",
       " 0.7738095238095238,\n",
       " 0.6666666666666665,\n",
       " 0.6071428571428571,\n",
       " 0.738095238095238]"
      ]
     },
     "execution_count": 67,
     "metadata": {},
     "output_type": "execute_result"
    }
   ],
   "source": [
    "aucs_am_rf_11"
   ]
  },
  {
   "cell_type": "code",
   "execution_count": 61,
   "metadata": {
    "collapsed": false
   },
   "outputs": [
    {
     "name": "stderr",
     "output_type": "stream",
     "text": [
      "\r",
      "  0%|          | 0/10 [00:00<?, ?it/s]"
     ]
    },
    {
     "name": "stdout",
     "output_type": "stream",
     "text": [
      "Model =  AM\n",
      "Method =  RandomForests\n",
      "Normalization =  zscore\n",
      "Num pos after sampling: 19\n",
      "Num neg after sampling: 30\n",
      "Num pos after sampling: 6\n",
      "Num neg after sampling: 14\n",
      "\n",
      "===== Testing =====\n"
     ]
    },
    {
     "name": "stderr",
     "output_type": "stream",
     "text": [
      "\r",
      " 10%|█         | 1/10 [03:55<35:16, 235.18s/it]"
     ]
    },
    {
     "name": "stdout",
     "output_type": "stream",
     "text": [
      "Model =  AM\n",
      "Method =  RandomForests\n",
      "Normalization =  zscore\n",
      "Num pos after sampling: 19\n",
      "Num neg after sampling: 30\n",
      "Num pos after sampling: 6\n",
      "Num neg after sampling: 14\n",
      "\n",
      "===== Testing =====\n"
     ]
    },
    {
     "name": "stderr",
     "output_type": "stream",
     "text": [
      "\r",
      " 20%|██        | 2/10 [07:49<31:20, 235.01s/it]"
     ]
    },
    {
     "name": "stdout",
     "output_type": "stream",
     "text": [
      "Model =  AM\n",
      "Method =  RandomForests\n",
      "Normalization =  zscore\n",
      "Num pos after sampling: 19\n",
      "Num neg after sampling: 30\n",
      "Num pos after sampling: 6\n",
      "Num neg after sampling: 14\n",
      "\n",
      "===== Testing =====\n"
     ]
    },
    {
     "name": "stderr",
     "output_type": "stream",
     "text": [
      "\r",
      " 30%|███       | 3/10 [11:43<27:22, 234.64s/it]"
     ]
    },
    {
     "name": "stdout",
     "output_type": "stream",
     "text": [
      "Model =  AM\n",
      "Method =  RandomForests\n",
      "Normalization =  zscore\n",
      "Num pos after sampling: 19\n",
      "Num neg after sampling: 30\n",
      "Num pos after sampling: 6\n",
      "Num neg after sampling: 14\n",
      "\n",
      "===== Testing =====\n"
     ]
    },
    {
     "name": "stderr",
     "output_type": "stream",
     "text": [
      "\r",
      " 40%|████      | 4/10 [15:39<23:29, 234.99s/it]"
     ]
    },
    {
     "name": "stdout",
     "output_type": "stream",
     "text": [
      "Model =  AM\n",
      "Method =  RandomForests\n",
      "Normalization =  zscore\n",
      "Num pos after sampling: 19\n",
      "Num neg after sampling: 30\n",
      "Num pos after sampling: 6\n",
      "Num neg after sampling: 14\n"
     ]
    },
    {
     "name": "stderr",
     "output_type": "stream",
     "text": [
      "\r",
      " 50%|█████     | 5/10 [19:33<19:34, 234.87s/it]"
     ]
    },
    {
     "name": "stdout",
     "output_type": "stream",
     "text": [
      "\n",
      "===== Testing =====\n",
      "Model =  AM\n",
      "Method =  RandomForests\n",
      "Normalization =  zscore\n",
      "Num pos after sampling: 19\n",
      "Num neg after sampling: 30\n",
      "Num pos after sampling: 6\n",
      "Num neg after sampling: 14\n",
      "\n",
      "===== Testing =====\n"
     ]
    },
    {
     "name": "stderr",
     "output_type": "stream",
     "text": [
      "\r",
      " 60%|██████    | 6/10 [23:27<15:38, 234.50s/it]"
     ]
    },
    {
     "name": "stdout",
     "output_type": "stream",
     "text": [
      "Model =  AM\n",
      "Method =  RandomForests\n",
      "Normalization =  zscore\n",
      "Num pos after sampling: 19\n",
      "Num neg after sampling: 30\n",
      "Num pos after sampling: 6\n",
      "Num neg after sampling: 14\n",
      "\n",
      "===== Testing =====\n"
     ]
    },
    {
     "name": "stderr",
     "output_type": "stream",
     "text": [
      "\r",
      " 70%|███████   | 7/10 [27:20<11:41, 233.91s/it]"
     ]
    },
    {
     "name": "stdout",
     "output_type": "stream",
     "text": [
      "Model =  AM\n",
      "Method =  RandomForests\n",
      "Normalization =  zscore\n",
      "Num pos after sampling: 19\n",
      "Num neg after sampling: 30\n",
      "Num pos after sampling: 6\n",
      "Num neg after sampling: 14\n",
      "\n",
      "===== Testing ====="
     ]
    },
    {
     "name": "stderr",
     "output_type": "stream",
     "text": [
      "\r",
      " 80%|████████  | 8/10 [31:13<07:47, 233.79s/it]"
     ]
    },
    {
     "name": "stdout",
     "output_type": "stream",
     "text": [
      "\n",
      "Model =  AM\n",
      "Method =  RandomForests\n",
      "Normalization =  zscore\n",
      "Num pos after sampling: 19\n",
      "Num neg after sampling: 30\n",
      "Num pos after sampling: 6\n",
      "Num neg after sampling: 14\n",
      "\n",
      "===== Testing =====\n"
     ]
    },
    {
     "name": "stderr",
     "output_type": "stream",
     "text": [
      "\r",
      " 90%|█████████ | 9/10 [35:07<03:53, 233.76s/it]"
     ]
    },
    {
     "name": "stdout",
     "output_type": "stream",
     "text": [
      "Model =  AM\n",
      "Method =  RandomForests\n",
      "Normalization =  zscore\n",
      "Num pos after sampling: 19\n",
      "Num neg after sampling: 30\n",
      "Num pos after sampling: 6\n",
      "Num neg after sampling: 14\n",
      "\n",
      "===== Testing =====\n"
     ]
    },
    {
     "name": "stderr",
     "output_type": "stream",
     "text": [
      "100%|██████████| 10/10 [39:01<00:00, 233.80s/it]\n"
     ]
    }
   ],
   "source": [
    "aucs_am_rf_11 = []\n",
    "for i in tqdm(range(10)):\n",
    "    auroc = run_model(celltype='AM', response='original', n_top_genes=11, jumble_train=False, \n",
    "            method='RandomForests', norm='zscore', random_genes=False, jumble_test=False, sampling='', cross_validation='LOO')\n",
    "    auc = auc_calc(auroc)\n",
    "    aucs_am_rf_11.append(auc)\n",
    "    "
   ]
  },
  {
   "cell_type": "markdown",
   "metadata": {},
   "source": [
    "## Plot AUROC Curves"
   ]
  },
  {
   "cell_type": "code",
   "execution_count": 32,
   "metadata": {
    "collapsed": false
   },
   "outputs": [],
   "source": [
    "def plot_auroc(data, label):\n",
    "    plt.plot(*zip(*data), label=label)\n",
    "    plt.title(\"AUROC, \"+ label)\n",
    "    plt.xlabel(\"False Negative Rate\")\n",
    "    plt.ylabel(\"True Negative Rate\")\n",
    "    plt.plot(*zip(*[(i, i) for i in np.arange(0,1.05,1)]))\n",
    "    #plt.legend(bbox_to_anchor=(1.2, 0.5))\n",
    "    plt.show()"
   ]
  },
  {
   "cell_type": "code",
   "execution_count": 41,
   "metadata": {
    "collapsed": false
   },
   "outputs": [
    {
     "data": {
      "image/png": "[encoded data removed]",
      "text/plain": [
       "<matplotlib.figure.Figure at 0x10b700b10>"
      ]
     },
     "metadata": {},
     "output_type": "display_data"
    },
    {
     "data": {
      "text/plain": [
       "0.9166666666666667"
      ]
     },
     "execution_count": 41,
     "metadata": {},
     "output_type": "execute_result"
    }
   ],
   "source": [
    "plot_auroc(auroc_am_rf_100, 'AM model, Top 100 genes, Random Forests')\n",
    "auc_calc(auroc_am_rf_100)"
   ]
  },
  {
   "cell_type": "code",
   "execution_count": 42,
   "metadata": {
    "collapsed": false
   },
   "outputs": [
    {
     "data": {
      "image/png": "[encoded data removed]",
      "text/plain": [
       "<matplotlib.figure.Figure at 0x10aff7ed0>"
      ]
     },
     "metadata": {},
     "output_type": "display_data"
    },
    {
     "data": {
      "text/plain": [
       "0.7619047619047619"
      ]
     },
     "execution_count": 42,
     "metadata": {},
     "output_type": "execute_result"
    }
   ],
   "source": [
    "plot_auroc(auroc_am_rf_11, 'AM model, Top 11 genes, Random Forests')\n",
    "auc_calc(auroc_am_rf_11)"
   ]
  },
  {
   "cell_type": "code",
   "execution_count": 43,
   "metadata": {
    "collapsed": false
   },
   "outputs": [
    {
     "data": {
      "image/png": "[encoded data removed]",
      "text/plain": [
       "<matplotlib.figure.Figure at 0x10b8e4290>"
      ]
     },
     "metadata": {},
     "output_type": "display_data"
    },
    {
     "data": {
      "text/plain": [
       "0.8214285714285714"
      ]
     },
     "execution_count": 43,
     "metadata": {},
     "output_type": "execute_result"
    }
   ],
   "source": [
    "plot_auroc(auroc_am_plsr_100, 'AM model, Top 100 genes, PLSR')\n",
    "auc_calc(auroc_am_plsr_100)"
   ]
  },
  {
   "cell_type": "code",
   "execution_count": 44,
   "metadata": {
    "collapsed": false
   },
   "outputs": [
    {
     "data": {
      "image/png": "[encoded data removed]",
      "text/plain": [
       "<matplotlib.figure.Figure at 0x10b1cbfd0>"
      ]
     },
     "metadata": {},
     "output_type": "display_data"
    },
    {
     "data": {
      "text/plain": [
       "0.46428571428571425"
      ]
     },
     "execution_count": 44,
     "metadata": {},
     "output_type": "execute_result"
    }
   ],
   "source": [
    "plot_auroc(auroc_am_plsr_11, 'AM model, Top 11 genes, PLSR')\n",
    "\n",
    "auc_calc(auroc_am_plsr_11)"
   ]
  },
  {
   "cell_type": "markdown",
   "metadata": {},
   "source": [
    "### CD163"
   ]
  },
  {
   "cell_type": "code",
   "execution_count": 45,
   "metadata": {
    "collapsed": false,
    "scrolled": true
   },
   "outputs": [
    {
     "name": "stdout",
     "output_type": "stream",
     "text": [
      "Model =  CD163\n",
      "Method =  PLSR\n",
      "Normalization =  zscore\n",
      "Num pos after sampling: 15\n",
      "Num neg after sampling: 30\n",
      "Num pos after sampling: 7\n",
      "Num neg after sampling: 5\n",
      "\n",
      "===== Testing =====\n"
     ]
    }
   ],
   "source": [
    "auroc_163_plsr_100 = run_model(celltype='CD163', response='original', n_top_genes=80, jumble_train=False,\n",
    "                method='PLSR', norm='zscore', random_genes=False, jumble_test=False, sampling='', cross_validation='LOO')"
   ]
  },
  {
   "cell_type": "code",
   "execution_count": 46,
   "metadata": {
    "collapsed": false,
    "scrolled": true
   },
   "outputs": [
    {
     "name": "stdout",
     "output_type": "stream",
     "text": [
      "Model =  CD163\n",
      "Method =  PLSR\n",
      "Normalization =  zscore\n",
      "Num pos after sampling: 15\n",
      "Num neg after sampling: 30\n",
      "Num pos after sampling: 7\n",
      "Num neg after sampling: 5\n",
      "\n",
      "===== Testing =====\n"
     ]
    }
   ],
   "source": [
    "auroc_163_plsr_11 = run_model(celltype='CD163', response='original', n_top_genes=11, jumble_train=False,\n",
    "                method='PLSR', norm='zscore', random_genes=False, jumble_test=False, sampling='', cross_validation='LOO')"
   ]
  },
  {
   "cell_type": "code",
   "execution_count": 76,
   "metadata": {
    "collapsed": false
   },
   "outputs": [
    {
     "name": "stdout",
     "output_type": "stream",
     "text": [
      "Mean: 0.69, Std: 0.05\n",
      "95% CI (0.59014384312317036, 0.79652282354349635)\n"
     ]
    }
   ],
   "source": [
    "print_stats(aucs)"
   ]
  },
  {
   "cell_type": "code",
   "execution_count": 54,
   "metadata": {
    "collapsed": false
   },
   "outputs": [
    {
     "name": "stderr",
     "output_type": "stream",
     "text": [
      "\r",
      "  0%|          | 0/15 [00:00<?, ?it/s]"
     ]
    },
    {
     "name": "stdout",
     "output_type": "stream",
     "text": [
      "Model =  CD163\n",
      "Method =  RandomForests\n",
      "Normalization =  zscore\n",
      "Num pos after sampling: 15\n",
      "Num neg after sampling: 30\n",
      "Num pos after sampling: 7\n",
      "Num neg after sampling: 5\n",
      "\n",
      "===== Testing =====\n"
     ]
    },
    {
     "name": "stderr",
     "output_type": "stream",
     "text": [
      "\r",
      "  7%|▋         | 1/15 [03:34<50:09, 214.96s/it]"
     ]
    },
    {
     "name": "stdout",
     "output_type": "stream",
     "text": [
      "Model =  CD163\n",
      "Method =  RandomForests\n",
      "Normalization =  zscore\n",
      "Num pos after sampling: 15\n",
      "Num neg after sampling: 30\n",
      "Num pos after sampling: 7\n",
      "Num neg after sampling: 5\n",
      "\n",
      "===== Testing =====\n"
     ]
    },
    {
     "name": "stderr",
     "output_type": "stream",
     "text": [
      "\r",
      " 13%|█▎        | 2/15 [07:09<46:34, 214.94s/it]"
     ]
    },
    {
     "name": "stdout",
     "output_type": "stream",
     "text": [
      "Model =  CD163\n",
      "Method =  RandomForests\n",
      "Normalization =  zscore\n",
      "Num pos after sampling: 15\n",
      "Num neg after sampling: 30\n",
      "Num pos after sampling: 7\n",
      "Num neg after sampling: 5\n",
      "\n",
      "===== Testing =====\n"
     ]
    },
    {
     "name": "stderr",
     "output_type": "stream",
     "text": [
      "\r",
      " 20%|██        | 3/15 [11:52<47:01, 235.17s/it]"
     ]
    },
    {
     "name": "stdout",
     "output_type": "stream",
     "text": [
      "Model =  CD163\n",
      "Method =  RandomForests\n",
      "Normalization =  zscore\n",
      "Num pos after sampling: 15\n",
      "Num neg after sampling: 30\n",
      "Num pos after sampling: 7\n",
      "Num neg after sampling: 5\n",
      "\n",
      "===== Testing =====\n"
     ]
    },
    {
     "name": "stderr",
     "output_type": "stream",
     "text": [
      "\r",
      " 27%|██▋       | 4/15 [23:04<1:07:07, 366.16s/it]"
     ]
    },
    {
     "name": "stdout",
     "output_type": "stream",
     "text": [
      "Model =  CD163\n",
      "Method =  RandomForests\n",
      "Normalization =  zscore\n",
      "Num pos after sampling: 15\n",
      "Num neg after sampling: 30\n",
      "Num pos after sampling: 7\n",
      "Num neg after sampling: 5\n",
      "\n",
      "===== Testing =====\n"
     ]
    },
    {
     "name": "stderr",
     "output_type": "stream",
     "text": [
      "\r",
      " 33%|███▎      | 5/15 [26:25<52:47, 316.72s/it]  "
     ]
    },
    {
     "name": "stdout",
     "output_type": "stream",
     "text": [
      "Model =  CD163\n",
      "Method =  RandomForests\n",
      "Normalization =  zscore\n",
      "Num pos after sampling: 15\n",
      "Num neg after sampling: 30\n",
      "Num pos after sampling: 7\n",
      "Num neg after sampling: 5\n",
      "\n",
      "===== Testing =====\n"
     ]
    },
    {
     "name": "stderr",
     "output_type": "stream",
     "text": [
      "\r",
      " 40%|████      | 6/15 [29:45<42:16, 281.83s/it]"
     ]
    },
    {
     "name": "stdout",
     "output_type": "stream",
     "text": [
      "Model =  CD163\n",
      "Method =  RandomForests\n",
      "Normalization =  zscore\n",
      "Num pos after sampling: 15\n",
      "Num neg after sampling: 30\n",
      "Num pos after sampling: 7\n",
      "Num neg after sampling: 5\n",
      "\n",
      "===== Testing =====\n"
     ]
    },
    {
     "name": "stderr",
     "output_type": "stream",
     "text": [
      "\r",
      " 47%|████▋     | 7/15 [33:05<34:18, 257.32s/it]"
     ]
    },
    {
     "name": "stdout",
     "output_type": "stream",
     "text": [
      "Model =  CD163\n",
      "Method =  RandomForests\n",
      "Normalization =  zscore\n",
      "Num pos after sampling: 15\n",
      "Num neg after sampling: 30\n",
      "Num pos after sampling: 7\n",
      "Num neg after sampling: 5\n",
      "\n",
      "===== Testing =====\n"
     ]
    },
    {
     "name": "stderr",
     "output_type": "stream",
     "text": [
      "\r",
      " 53%|█████▎    | 8/15 [38:49<33:02, 283.22s/it]"
     ]
    },
    {
     "name": "stdout",
     "output_type": "stream",
     "text": [
      "Model =  CD163\n",
      "Method =  RandomForests\n",
      "Normalization =  zscore\n",
      "Num pos after sampling: 15\n",
      "Num neg after sampling: 30\n",
      "Num pos after sampling: 7\n",
      "Num neg after sampling: 5\n",
      "\n",
      "===== Testing =====\n"
     ]
    },
    {
     "name": "stderr",
     "output_type": "stream",
     "text": [
      "\r",
      " 60%|██████    | 9/15 [42:09<25:49, 258.25s/it]"
     ]
    },
    {
     "name": "stdout",
     "output_type": "stream",
     "text": [
      "Model =  CD163\n",
      "Method =  RandomForests\n",
      "Normalization =  zscore\n",
      "Num pos after sampling: 15\n",
      "Num neg after sampling: 30\n",
      "Num pos after sampling: 7\n",
      "Num neg after sampling: 5\n",
      "\n",
      "===== Testing =====\n"
     ]
    },
    {
     "name": "stderr",
     "output_type": "stream",
     "text": [
      "\r",
      " 67%|██████▋   | 10/15 [45:28<20:01, 240.33s/it]"
     ]
    },
    {
     "name": "stdout",
     "output_type": "stream",
     "text": [
      "Model =  CD163\n",
      "Method =  RandomForests\n",
      "Normalization =  zscore\n",
      "Num pos after sampling: 15\n",
      "Num neg after sampling: 30\n",
      "Num pos after sampling: 7\n",
      "Num neg after sampling: 5\n",
      "\n",
      "===== Testing =====\n"
     ]
    },
    {
     "name": "stderr",
     "output_type": "stream",
     "text": [
      "\r",
      " 73%|███████▎  | 11/15 [48:48<15:13, 228.40s/it]"
     ]
    },
    {
     "name": "stdout",
     "output_type": "stream",
     "text": [
      "Model =  CD163\n",
      "Method =  RandomForests\n",
      "Normalization =  zscore\n",
      "Num pos after sampling: 15\n",
      "Num neg after sampling: 30\n",
      "Num pos after sampling: 7\n",
      "Num neg after sampling: 5\n",
      "\n",
      "===== Testing =====\n"
     ]
    },
    {
     "name": "stderr",
     "output_type": "stream",
     "text": [
      "\r",
      " 80%|████████  | 12/15 [1:22:31<38:20, 766.75s/it]"
     ]
    },
    {
     "name": "stdout",
     "output_type": "stream",
     "text": [
      "Model =  CD163\n",
      "Method =  RandomForests\n",
      "Normalization =  zscore\n",
      "Num pos after sampling: 15\n",
      "Num neg after sampling: 30\n",
      "Num pos after sampling: 7\n",
      "Num neg after sampling: 5\n",
      "\n",
      "===== Testing =====\n"
     ]
    },
    {
     "name": "stderr",
     "output_type": "stream",
     "text": [
      "\r",
      " 87%|████████▋ | 13/15 [1:26:54<20:31, 615.70s/it]"
     ]
    },
    {
     "name": "stdout",
     "output_type": "stream",
     "text": [
      "Model =  CD163\n",
      "Method =  RandomForests\n",
      "Normalization =  zscore\n",
      "Num pos after sampling: 15\n",
      "Num neg after sampling: 30\n",
      "Num pos after sampling: 7\n",
      "Num neg after sampling: 5\n",
      "\n",
      "===== Testing =====\n"
     ]
    },
    {
     "name": "stderr",
     "output_type": "stream",
     "text": [
      "\r",
      " 93%|█████████▎| 14/15 [1:30:14<08:10, 490.98s/it]"
     ]
    },
    {
     "name": "stdout",
     "output_type": "stream",
     "text": [
      "Model =  CD163\n",
      "Method =  RandomForests\n",
      "Normalization =  zscore\n",
      "Num pos after sampling: 15\n",
      "Num neg after sampling: 30\n",
      "Num pos after sampling: 7\n",
      "Num neg after sampling: 5\n",
      "\n",
      "===== Testing =====\n"
     ]
    },
    {
     "name": "stderr",
     "output_type": "stream",
     "text": [
      "100%|██████████| 15/15 [1:33:34<00:00, 403.64s/it]\n"
     ]
    }
   ],
   "source": [
    "aucs = []\n",
    "for i in tqdm(range(15)):\n",
    "    auroc = run_model(celltype='CD163', response='original', n_top_genes=100, jumble_train=False, \n",
    "            method='RandomForests', norm='zscore', random_genes=False, jumble_test=False, sampling='', cross_validation='LOO')\n",
    "    auc = auc_calc(auroc)\n",
    "    aucs.append(auc)\n",
    "    "
   ]
  },
  {
   "cell_type": "code",
   "execution_count": 47,
   "metadata": {
    "collapsed": false,
    "scrolled": false
   },
   "outputs": [
    {
     "name": "stdout",
     "output_type": "stream",
     "text": [
      "Model =  CD163\n",
      "Method =  RandomForests\n",
      "Normalization =  zscore\n",
      "Num pos after sampling: 15\n",
      "Num neg after sampling: 30\n",
      "Num pos after sampling: 7\n",
      "Num neg after sampling: 5\n",
      "\n",
      "===== Testing =====\n"
     ]
    }
   ],
   "source": [
    "auroc_163_rf_100 = run_model(celltype='CD163', response='original', n_top_genes=100, jumble_train=False, \n",
    "                            method='RandomForests', norm='zscore', random_genes=False, jumble_test=False, sampling='', cross_validation='LOO')"
   ]
  },
  {
   "cell_type": "code",
   "execution_count": 80,
   "metadata": {
    "collapsed": false
   },
   "outputs": [
    {
     "name": "stdout",
     "output_type": "stream",
     "text": [
      "Mean: 0.64, Std: 0.04\n",
      "95% CI (0.5618039468748387, 0.71248176741087577)\n"
     ]
    }
   ],
   "source": [
    "print_stats(aucs_163_rf_11)"
   ]
  },
  {
   "cell_type": "code",
   "execution_count": 59,
   "metadata": {
    "collapsed": false,
    "scrolled": true
   },
   "outputs": [
    {
     "data": {
      "text/plain": [
       "[0.6857142857142857,\n",
       " 0.6285714285714286,\n",
       " 0.6285714285714286,\n",
       " 0.5714285714285714,\n",
       " 0.6571428571428571,\n",
       " 0.6571428571428571,\n",
       " 0.6857142857142857,\n",
       " 0.6571428571428571,\n",
       " 0.6285714285714286,\n",
       " 0.5714285714285714]"
      ]
     },
     "execution_count": 59,
     "metadata": {},
     "output_type": "execute_result"
    }
   ],
   "source": [
    "aucs_163_rf_11"
   ]
  },
  {
   "cell_type": "code",
   "execution_count": 58,
   "metadata": {
    "collapsed": false
   },
   "outputs": [
    {
     "name": "stderr",
     "output_type": "stream",
     "text": [
      "\n",
      "  0%|          | 0/10 [00:00<?, ?it/s]\u001b[A"
     ]
    },
    {
     "name": "stdout",
     "output_type": "stream",
     "text": [
      "Model =  CD163\n",
      "Method =  RandomForests\n",
      "Normalization =  zscore\n",
      "Num pos after sampling: 15\n",
      "Num neg after sampling: 30\n"
     ]
    },
    {
     "name": "stderr",
     "output_type": "stream",
     "text": [
      "\n",
      "Exception in thread Thread-5:\n",
      "Traceback (most recent call last):\n",
      "  File \"/Users/tjyacoub/anaconda2/lib/python2.7/threading.py\", line 801, in __bootstrap_inner\n",
      "    self.run()\n",
      "  File \"/Users/tjyacoub/anaconda2/lib/python2.7/site-packages/tqdm/_tqdm.py\", line 102, in run\n",
      "    for instance in self.tqdm_cls._instances:\n",
      "  File \"/Users/tjyacoub/anaconda2/lib/python2.7/_weakrefset.py\", line 60, in __iter__\n",
      "    for itemref in self.data:\n",
      "RuntimeError: Set changed size during iteration\n",
      "\n"
     ]
    },
    {
     "name": "stdout",
     "output_type": "stream",
     "text": [
      "Num pos after sampling: 7\n",
      "Num neg after sampling: 5\n",
      "\n",
      "===== Testing =====\n"
     ]
    },
    {
     "name": "stderr",
     "output_type": "stream",
     "text": [
      "\n",
      " 10%|█         | 1/10 [03:30<31:32, 210.31s/it]\u001b[A"
     ]
    },
    {
     "name": "stdout",
     "output_type": "stream",
     "text": [
      "Model =  CD163\n",
      "Method =  RandomForests\n",
      "Normalization =  zscore\n",
      "Num pos after sampling: 15\n",
      "Num neg after sampling: 30\n",
      "Num pos after sampling: 7\n",
      "Num neg after sampling: 5\n",
      "\n",
      "===== Testing =====\n"
     ]
    },
    {
     "name": "stderr",
     "output_type": "stream",
     "text": [
      "\n",
      " 20%|██        | 2/10 [06:51<27:40, 207.59s/it]\u001b[A"
     ]
    },
    {
     "name": "stdout",
     "output_type": "stream",
     "text": [
      "Model =  CD163\n",
      "Method =  RandomForests\n",
      "Normalization =  zscore\n",
      "Num pos after sampling: 15\n",
      "Num neg after sampling: 30\n",
      "Num pos after sampling: 7\n",
      "Num neg after sampling: 5\n",
      "\n",
      "===== Testing =====\n"
     ]
    },
    {
     "name": "stderr",
     "output_type": "stream",
     "text": [
      "\n",
      " 30%|███       | 3/10 [10:10<23:54, 204.94s/it]\u001b[A"
     ]
    },
    {
     "name": "stdout",
     "output_type": "stream",
     "text": [
      "Model =  CD163\n",
      "Method =  RandomForests\n",
      "Normalization =  zscore\n",
      "Num pos after sampling: 15\n",
      "Num neg after sampling: 30\n",
      "Num pos after sampling: 7\n",
      "Num neg after sampling: 5\n",
      "\n",
      "===== Testing =====\n"
     ]
    },
    {
     "name": "stderr",
     "output_type": "stream",
     "text": [
      "\n",
      " 40%|████      | 4/10 [1:02:39<1:48:49, 1088.17s/it]\u001b[A"
     ]
    },
    {
     "name": "stdout",
     "output_type": "stream",
     "text": [
      "Model =  CD163\n",
      "Method =  RandomForests\n",
      "Normalization =  zscore\n",
      "Num pos after sampling: 15\n",
      "Num neg after sampling: 30\n",
      "Num pos after sampling: 7\n",
      "Num neg after sampling: 5\n",
      "\n",
      "===== Testing =====\n"
     ]
    },
    {
     "name": "stderr",
     "output_type": "stream",
     "text": [
      "\n",
      " 50%|█████     | 5/10 [1:06:24<1:09:05, 829.20s/it] \u001b[A"
     ]
    },
    {
     "name": "stdout",
     "output_type": "stream",
     "text": [
      "Model =  CD163\n",
      "Method =  RandomForests\n",
      "Normalization =  zscore\n",
      "Num pos after sampling: 15\n",
      "Num neg after sampling: 30\n",
      "Num pos after sampling: 7\n",
      "Num neg after sampling: 5\n",
      "\n",
      "===== Testing =====\n"
     ]
    },
    {
     "name": "stderr",
     "output_type": "stream",
     "text": [
      "\n",
      " 60%|██████    | 6/10 [1:10:27<43:33, 653.38s/it]  \u001b[A"
     ]
    },
    {
     "name": "stdout",
     "output_type": "stream",
     "text": [
      "Model =  CD163\n",
      "Method =  RandomForests\n",
      "Normalization =  zscore\n",
      "Num pos after sampling: 15\n",
      "Num neg after sampling: 30\n",
      "Num pos after sampling: 7\n",
      "Num neg after sampling: 5\n",
      "\n",
      "===== Testing =====\n"
     ]
    },
    {
     "name": "stderr",
     "output_type": "stream",
     "text": [
      "\n",
      " 70%|███████   | 7/10 [1:14:10<26:13, 524.43s/it]\u001b[A"
     ]
    },
    {
     "name": "stdout",
     "output_type": "stream",
     "text": [
      "Model =  CD163\n",
      "Method =  RandomForests\n",
      "Normalization =  zscore\n",
      "Num pos after sampling: 15\n",
      "Num neg after sampling: 30\n",
      "Num pos after sampling: 7\n",
      "Num neg after sampling: 5\n",
      "\n",
      "===== Testing ====="
     ]
    },
    {
     "name": "stderr",
     "output_type": "stream",
     "text": [
      "\n",
      " 80%|████████  | 8/10 [1:17:44<14:22, 431.17s/it]\u001b[A"
     ]
    },
    {
     "name": "stdout",
     "output_type": "stream",
     "text": [
      "\n",
      "Model =  CD163\n",
      "Method =  RandomForests\n",
      "Normalization =  zscore\n",
      "Num pos after sampling: 15\n",
      "Num neg after sampling: 30\n",
      "Num pos after sampling: 7\n",
      "Num neg after sampling: 5\n",
      "\n",
      "===== Testing =====\n"
     ]
    },
    {
     "name": "stderr",
     "output_type": "stream",
     "text": [
      "\n",
      " 90%|█████████ | 9/10 [1:21:30<06:09, 369.52s/it]\u001b[A"
     ]
    },
    {
     "name": "stdout",
     "output_type": "stream",
     "text": [
      "Model =  CD163\n",
      "Method =  RandomForests\n",
      "Normalization =  zscore\n",
      "Num pos after sampling: 15\n",
      "Num neg after sampling: 30\n",
      "Num pos after sampling: 7\n",
      "Num neg after sampling: 5\n",
      "\n",
      "===== Testing =====\n"
     ]
    },
    {
     "name": "stderr",
     "output_type": "stream",
     "text": [
      "\n",
      "100%|██████████| 10/10 [1:25:01<00:00, 322.12s/it]\u001b[A\n",
      "\u001b[A"
     ]
    }
   ],
   "source": [
    "aucs_163_rf_11 = []\n",
    "for i in tqdm(range(10)):\n",
    "    auroc = run_model(celltype='CD163', response='original', n_top_genes=11, jumble_train=False, \n",
    "            method='RandomForests', norm='zscore', random_genes=False, jumble_test=False, sampling='', cross_validation='LOO')\n",
    "    auc = auc_calc(auroc)\n",
    "    aucs_163_rf_11.append(auc)\n",
    "    "
   ]
  },
  {
   "cell_type": "code",
   "execution_count": 48,
   "metadata": {
    "collapsed": false,
    "scrolled": false
   },
   "outputs": [
    {
     "name": "stdout",
     "output_type": "stream",
     "text": [
      "Model =  CD163\n",
      "Method =  RandomForests\n",
      "Normalization =  zscore\n",
      "Num pos after sampling: 15\n",
      "Num neg after sampling: 30\n",
      "Num pos after sampling: 7\n",
      "Num neg after sampling: 5\n",
      "\n",
      "===== Testing =====\n"
     ]
    }
   ],
   "source": [
    "auroc_163_rf_11 = run_model(celltype='CD163', response='original', n_top_genes=11, jumble_train=False, method='RandomForests', \n",
    "                       norm='zscore', random_genes=False, jumble_test=False, sampling='', cross_validation='LOO')"
   ]
  },
  {
   "cell_type": "code",
   "execution_count": 49,
   "metadata": {
    "collapsed": false
   },
   "outputs": [
    {
     "data": {
      "image/png": "[encoded data removed]",
      "text/plain": [
       "<matplotlib.figure.Figure at 0x10b16b450>"
      ]
     },
     "metadata": {},
     "output_type": "display_data"
    },
    {
     "data": {
      "text/plain": [
       "0.6857142857142857"
      ]
     },
     "execution_count": 49,
     "metadata": {},
     "output_type": "execute_result"
    }
   ],
   "source": [
    "plot_auroc(auroc_163_rf_100, 'CD163 model, Top 100 genes, Random Forests')\n",
    "auc_calc(auroc_163_rf_100)"
   ]
  },
  {
   "cell_type": "code",
   "execution_count": 50,
   "metadata": {
    "collapsed": false
   },
   "outputs": [
    {
     "data": {
      "image/png": "[encoded data removed]",
      "text/plain": [
       "<matplotlib.figure.Figure at 0x10bd3a910>"
      ]
     },
     "metadata": {},
     "output_type": "display_data"
    },
    {
     "data": {
      "text/plain": [
       "0.6571428571428571"
      ]
     },
     "execution_count": 50,
     "metadata": {},
     "output_type": "execute_result"
    }
   ],
   "source": [
    "plot_auroc(auroc_163_rf_11, 'CD163 model, Top 11 genes, Random Forests')\n",
    "auc_calc(auroc_163_rf_11)"
   ]
  },
  {
   "cell_type": "code",
   "execution_count": 51,
   "metadata": {
    "collapsed": false
   },
   "outputs": [
    {
     "data": {
      "image/png": "[encoded data removed]",
      "text/plain": [
       "<matplotlib.figure.Figure at 0x10d2bb810>"
      ]
     },
     "metadata": {},
     "output_type": "display_data"
    },
    {
     "data": {
      "text/plain": [
       "0.5428571428571429"
      ]
     },
     "execution_count": 51,
     "metadata": {},
     "output_type": "execute_result"
    }
   ],
   "source": [
    "plot_auroc(auroc_163_plsr_100, 'CD163 model, Top 100 genes, PLSR')\n",
    "auc_calc(auroc_163_plsr_100)"
   ]
  },
  {
   "cell_type": "code",
   "execution_count": 53,
   "metadata": {
    "collapsed": false
   },
   "outputs": [
    {
     "data": {
      "image/png": "[encoded data removed]",
      "text/plain": [
       "<matplotlib.figure.Figure at 0x10ce23b90>"
      ]
     },
     "metadata": {},
     "output_type": "display_data"
    },
    {
     "data": {
      "text/plain": [
       "0.7428571428571429"
      ]
     },
     "execution_count": 53,
     "metadata": {},
     "output_type": "execute_result"
    }
   ],
   "source": [
    "plot_auroc(auroc_163_plsr_11, 'CD163 model, Top 11 genes, PLSR')\n",
    "auc_calc(auroc_163_plsr_11)"
   ]
  },
  {
   "cell_type": "code",
   "execution_count": null,
   "metadata": {
    "collapsed": true
   },
   "outputs": [],
   "source": []
  }
 ],
 "metadata": {
  "anaconda-cloud": {},
  "kernelspec": {
   "display_name": "Python [default]",
   "language": "python",
   "name": "python2"
  },
  "language_info": {
   "codemirror_mode": {
    "name": "ipython",
    "version": 2
   },
   "file_extension": ".py",
   "mimetype": "text/x-python",
   "name": "python",
   "nbconvert_exporter": "python",
   "pygments_lexer": "ipython2",
   "version": "2.7.12"
  }
 },
 "nbformat": 4,
 "nbformat_minor": 0
}
