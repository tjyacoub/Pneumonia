{
 "cells": [
  {
   "cell_type": "code",
   "execution_count": 2,
   "metadata": {
    "collapsed": false
   },
   "outputs": [],
   "source": [
    "%matplotlib inline\n",
    "import matplotlib.pyplot as plt\n",
    "import numpy as np\n",
    "import pandas as pd\n",
    "from sklearn.decomposition import PCA\n",
    "from scipy.stats import zscore\n",
    "import seaborn as sns\n",
    "from sklearn.cross_decomposition import PLSRegression\n",
    "from sklearn.svm import SVC\n",
    "from sklearn.ensemble import RandomForestRegressor\n",
    "from itertools import cycle\n",
    "import random\n",
    "from collections import Counter\n",
    "from tqdm import tqdm\n",
    "from vips import vipp"
   ]
  },
  {
   "cell_type": "code",
   "execution_count": 3,
   "metadata": {
    "collapsed": false
   },
   "outputs": [],
   "source": [
    "\n",
    "## ALREADY PREPROCESSED \n",
    "#### Min gene count = 0 for 15% of samples\n",
    "\n",
    "train_fpkm = pd.read_csv(\"../data/train_fpkm_minfilter0_log2.csv\",sep='\\t',index_col=0)\n",
    "train_meta = pd.read_csv('../data/meta_reseq.csv', sep='\\t', index_col='sample_id')\n",
    "\n",
    "test_fpkm = pd.read_csv(\"../data/test_fpkm_minfilter0_log2.csv\", sep='\\t', index_col=0)\n",
    "test_meta = pd.read_csv('../data/meta_r0.csv', sep='\\t', index_col=0)\n"
   ]
  },
  {
   "cell_type": "code",
   "execution_count": 4,
   "metadata": {
    "collapsed": false
   },
   "outputs": [
    {
     "name": "stdout",
     "output_type": "stream",
     "text": [
      "(32, 26081) (32, 2)\n",
      "(95, 11957) (95, 32)\n"
     ]
    }
   ],
   "source": [
    "print test_fpkm.shape, test_meta.shape\n",
    "print train_fpkm.shape, train_meta.shape"
   ]
  },
  {
   "cell_type": "code",
   "execution_count": 5,
   "metadata": {
    "collapsed": false
   },
   "outputs": [],
   "source": [
    "train_meta['sum_fpkm'] = train_fpkm.apply(lambda x: np.sum(x), axis=1)\n",
    "test_meta['sum_fpkm'] = test_fpkm.apply(lambda x: np.sum(x), axis=1)"
   ]
  },
  {
   "cell_type": "code",
   "execution_count": 6,
   "metadata": {
    "collapsed": false
   },
   "outputs": [
    {
     "data": {
      "text/plain": [
       "[<matplotlib.lines.Line2D at 0x104275d90>]"
      ]
     },
     "execution_count": 6,
     "metadata": {},
     "output_type": "execute_result"
    },
    {
     "data": {
      "image/png": "[encoded data removed]",
      "text/plain": [
       "<matplotlib.figure.Figure at 0x10a42d510>"
      ]
     },
     "metadata": {},
     "output_type": "display_data"
    }
   ],
   "source": [
    "plt.plot(sorted(train_meta['sum_fpkm']))"
   ]
  },
  {
   "cell_type": "markdown",
   "metadata": {},
   "source": [
    "### Optional filtering by total fpkm count"
   ]
  },
  {
   "cell_type": "code",
   "execution_count": 7,
   "metadata": {
    "collapsed": true
   },
   "outputs": [],
   "source": [
    "#test_meta = test_meta[test_meta['sum_fpkm'] > 15000]\n",
    "#train_meta = train_meta[train_meta['sum_fpkm'] > 10000]\n",
    "\n",
    "#test_fpkm =  test_fpkm.ix[test_meta.index]\n",
    "#train_fpkm = train_fpkm.ix[train_meta.index]"
   ]
  },
  {
   "cell_type": "code",
   "execution_count": 8,
   "metadata": {
    "collapsed": false
   },
   "outputs": [
    {
     "data": {
      "text/plain": [
       "((32, 3), (95, 33))"
      ]
     },
     "execution_count": 8,
     "metadata": {},
     "output_type": "execute_result"
    }
   ],
   "source": [
    "test_meta.shape, train_meta.shape"
   ]
  },
  {
   "cell_type": "markdown",
   "metadata": {},
   "source": [
    "### exclude BAL 18,19"
   ]
  },
  {
   "cell_type": "code",
   "execution_count": 9,
   "metadata": {
    "collapsed": false
   },
   "outputs": [],
   "source": [
    "to_remove = ['BAL18','BAL19']\n",
    "new_index = [i for i in train_fpkm.index if not any(rem in i for rem in to_remove)]\n",
    "train_fpkm = train_fpkm.ix[new_index]\n",
    "train_meta = train_meta.ix[new_index]"
   ]
  },
  {
   "cell_type": "code",
   "execution_count": 10,
   "metadata": {
    "collapsed": false
   },
   "outputs": [
    {
     "data": {
      "text/plain": [
       "False    60\n",
       "True     34\n",
       "Name: Pneum, dtype: int64"
      ]
     },
     "execution_count": 10,
     "metadata": {},
     "output_type": "execute_result"
    }
   ],
   "source": [
    "train_meta['Pneum'].value_counts()"
   ]
  },
  {
   "cell_type": "markdown",
   "metadata": {},
   "source": [
    "## Reclassify, Based on Mac's email 9/14/17"
   ]
  },
  {
   "cell_type": "code",
   "execution_count": 11,
   "metadata": {
    "collapsed": false
   },
   "outputs": [
    {
     "data": {
      "text/plain": [
       "array(['BAL28', 'BAL38', 'BAL48', 'BAL53', 'BAL55', 'BAL64', 'BAL75',\n",
       "       'BAL75', 'BAL79', 'BAL87', 'BAL87', 'BAL28', 'BAL33', 'BAL33',\n",
       "       'BAL38', 'BAL45', 'BAL46', 'BAL46', 'BAL49', 'BAL50', 'BAL51',\n",
       "       'BAL51', 'BAL53', 'BAL55', 'BAL57', 'BAL60', 'BAL60', 'BAL67',\n",
       "       'BAL67', 'BAL79', 'BAL83', 'BAL83', 'BAL86', 'BAL86'], dtype=object)"
      ]
     },
     "execution_count": 11,
     "metadata": {},
     "output_type": "execute_result"
    }
   ],
   "source": [
    "old_pos = train_meta[train_meta['Pneum']==True]\n",
    "old_pos_bals = old_pos['BAL'].values\n",
    "old_pos_bals"
   ]
  },
  {
   "cell_type": "code",
   "execution_count": 13,
   "metadata": {
    "collapsed": false
   },
   "outputs": [],
   "source": [
    "## Based on Mac's email 9/14/17\n",
    "f = open('../data/final_positives.txt','r').readlines()\n",
    "new_pos_bals = np.array([str('BAL' + i).rstrip() for i in f if len(i)>1])"
   ]
  },
  {
   "cell_type": "code",
   "execution_count": 14,
   "metadata": {
    "collapsed": false
   },
   "outputs": [
    {
     "data": {
      "text/plain": [
       "(29,)"
      ]
     },
     "execution_count": 14,
     "metadata": {},
     "output_type": "execute_result"
    }
   ],
   "source": [
    "new_pos_bals.shape"
   ]
  },
  {
   "cell_type": "code",
   "execution_count": 15,
   "metadata": {
    "collapsed": false
   },
   "outputs": [
    {
     "data": {
      "text/plain": [
       "False    60\n",
       "True     34\n",
       "Name: Pneum, dtype: int64"
      ]
     },
     "execution_count": 15,
     "metadata": {},
     "output_type": "execute_result"
    }
   ],
   "source": [
    "train_meta['Pneum'] = train_meta['BAL'].map(lambda x: x in new_pos_bals)\n",
    "train_meta['Pneum'].value_counts()"
   ]
  },
  {
   "cell_type": "code",
   "execution_count": 16,
   "metadata": {
    "collapsed": false
   },
   "outputs": [
    {
     "data": {
      "text/plain": [
       "(94, 33)"
      ]
     },
     "execution_count": 16,
     "metadata": {},
     "output_type": "execute_result"
    }
   ],
   "source": [
    "train_meta.shape"
   ]
  },
  {
   "cell_type": "markdown",
   "metadata": {},
   "source": [
    "### Change oral contaminates to negative - create new oral_meta"
   ]
  },
  {
   "cell_type": "code",
   "execution_count": 17,
   "metadata": {
    "collapsed": false
   },
   "outputs": [],
   "source": [
    "oral_bals = ['BAL' + str(i) for i in [10, 40, 51, 52, 53, 64, 70, 79]]"
   ]
  },
  {
   "cell_type": "code",
   "execution_count": 18,
   "metadata": {
    "collapsed": false
   },
   "outputs": [],
   "source": [
    "oral_meta = train_meta\n",
    "bal_dict = dict(zip(oral_meta['BAL'],oral_meta['Pneum']))\n",
    "oral_meta['Pneum'] = oral_meta['BAL'].map(lambda x: False if x in oral_bals else bal_dict[x])"
   ]
  },
  {
   "cell_type": "code",
   "execution_count": 19,
   "metadata": {
    "collapsed": false
   },
   "outputs": [
    {
     "data": {
      "text/plain": [
       "False    69\n",
       "True     25\n",
       "Name: Pneum, dtype: int64"
      ]
     },
     "execution_count": 19,
     "metadata": {},
     "output_type": "execute_result"
    }
   ],
   "source": [
    "oral_meta['Pneum'].value_counts()"
   ]
  },
  {
   "cell_type": "markdown",
   "metadata": {},
   "source": [
    "## Functions for ML algorithms, AUROC"
   ]
  },
  {
   "cell_type": "code",
   "execution_count": 20,
   "metadata": {
    "collapsed": true
   },
   "outputs": [],
   "source": [
    "### Used to get X y data from original counts dataframe. \n",
    "### We decided to use sampling=None as up/down-sampling are not easy to intrepret.\n",
    "\n",
    "def geteven_xy(df, dfm, celltype, sampling=None, norm='zscore'):\n",
    "    \n",
    "    '''\n",
    "    df -> counts\n",
    "    dfm -> meta data\n",
    "    celltype -> 'AM' or 'CD163'\n",
    "    sampling -> 'up', 'down', or None\n",
    "    normalization -> zscore, 'zero_one' (scales data from 0 to 1), or None\n",
    "    \n",
    "    '''\n",
    "    \n",
    "    dfm = dfm[dfm['CellType']==celltype]\n",
    "    y = dfm['Pneum'].values\n",
    "    df = df.ix[dfm.index]\n",
    "    #    if z: df = df.apply(lambda x: zscore(x))\n",
    "    genes = df.columns\n",
    "    pos = [i for i in range(len(y)) if y[i]==True]\n",
    "    neg = [i for i in range(len(y)) if y[i]==False]\n",
    "    \n",
    "    npos = len(pos)\n",
    "    nneg = len(neg)\n",
    "\n",
    "    #print \"Num positive: {}\".format(len(pos))\n",
    "    #print \"Num negative: {}\".format(len(neg))\n",
    "    if sampling=='down':\n",
    "        if nneg >= npos:\n",
    "            neg = random.sample(neg, npos)\n",
    "        else:\n",
    "            pos = random.sample(pos, nneg)\n",
    "    if sampling=='up':\n",
    "        if nneg >= npos:\n",
    "            dup_pos = list(np.random.choice(pos, nneg-npos))\n",
    "            pos = pos + dup_pos ## pos+pos in case not enough in pos\n",
    "    #            print \"duplicated pos:\", dup_pos\n",
    "        else:\n",
    "            neg = neg + np.random.choice(neg, npos-nneg)\n",
    "\n",
    "    df = df.ix[(pos+neg),:]\n",
    "    if norm=='zero_one': \n",
    "        for col in df.columns:\n",
    "            mx = np.max(df[col])\n",
    "            mn = np.min(df[col])\n",
    "            df[col] = df[col].map(lambda x: (x - mn)/(mx - mn))\n",
    "            \n",
    "    if norm=='zscore': \n",
    "        df = df.apply(lambda x: zscore(x))\n",
    "\n",
    "    dfm = dfm.ix[(pos+neg),:]\n",
    "    X = np.array(df)\n",
    "    y = dfm['Pneum'].values\n",
    "    print \"Num pos after sampling: {}\".format(len(pos))\n",
    "    print \"Num neg after sampling: {}\".format(len(neg))\n",
    "    #y = y[pos + neg] \n",
    "    #X = X[pos + neg] \n",
    "    return X,y, genes, df, dfm"
   ]
  },
  {
   "cell_type": "markdown",
   "metadata": {},
   "source": [
    "### Run the models"
   ]
  },
  {
   "cell_type": "code",
   "execution_count": 21,
   "metadata": {
    "collapsed": false
   },
   "outputs": [],
   "source": [
    "def run_model(celltype, n_top_genes, response='original', method='PLSR', \n",
    "                       norm=False, random_genes=False, jumble_test=False, jumble_train=False,\n",
    "                       npcs=5, n_estimators=100, sampling=False, cross_validation='LOO'):\n",
    "      \n",
    "    '''\n",
    "    Retrieves training data, gets top features using cross-validation.\n",
    "    Retreives test data, filters to top features, predicts.\n",
    "    \n",
    "    jumble_train -> jumbles each gene vector in the training data\n",
    "    n_pcs and n_estimators are for PLSR and RandomForests, respectively\n",
    "    cross_validation can be leave-one-out (LOO) or Kfold\n",
    "    random_genes is used as a null model, asking whether the top genes are really better than random.\n",
    "    \n",
    "    '''\n",
    "    \n",
    "    ### TRAINING\n",
    "    #################\n",
    "        \n",
    "    print \"Model = \", celltype\n",
    "    print \"Method = \", method\n",
    "    #print \"N_Top_Genes = \", n_top_genes\n",
    "    print \"Normalization = \", norm\n",
    "    \n",
    "    # Get training data\n",
    "    if response=='original': dfm = train_meta\n",
    "    elif response=='oral': dfm = oral_meta\n",
    "        \n",
    "    X, y, genes, df, dfm = geteven_xy(train_fpkm, train_meta, celltype=celltype, norm=norm, sampling=sampling)\n",
    "\n",
    "    if jumble_train:\n",
    "        print \"---- Entire training set is jumbled ----\\n\"\n",
    "        df = df.apply(np.random.permutation)\n",
    "        X = np.array(df)\n",
    "        \n",
    "    # Get top features using cross-validation\n",
    "    ##############\n",
    "    feature_inds = get_top_genes_cross_validation(X, y, \n",
    "                            method=method, cross_validation=cross_validation, \n",
    "                            n_pcs=npcs, n_estimators=n_estimators, n_top_genes=n_top_genes)\n",
    "\n",
    "    ## TRAIN METRICS\n",
    "    #print \"Q Squared: {0:.2f} \\n\".format(Q2)\n",
    "    #num_neg_correct = sum([(e < 0.5) for e in neg_err])\n",
    "    #num_pos_correct = sum([(e < 0.5) for e in pos_err])\n",
    "    \n",
    "    #print \"\\n===== Training ======\"\n",
    "    #print \"Negative: {0:.3f} ({1}/{2}) \".format(neg_accuracy_train, num_neg_correct, len(neg_err))\n",
    "    #print \"Positive: {0:.3f} ({1}/{2}) \".format(pos_accuracy_train, num_pos_correct, len(pos_err))\n",
    "    \n",
    "    \n",
    "    ## Get most common genes from each LOO model\n",
    "    ##############\n",
    "    all_top_feature_inds = [g for m in feature_inds for g in m]\n",
    "    c = Counter(all_top_feature_inds)\n",
    "    top_inds = [i[0] for i in c.most_common(n_top_genes)]\n",
    "    top_genes_train = [genes[i] for i in top_inds]\n",
    "    \n",
    "    \n",
    "    ## SWITCH OUT TOP GENES WITH RANDOM GENES\n",
    "    ##############\n",
    "    if random_genes:\n",
    "        top_genes_train = np.random.choice(genes, n_top_genes)\n",
    "        print \"\\n **Genes for testing are RANDOM** \\n\"\n",
    "\n",
    "    \n",
    "    ### BUILDING PREDICTIVE MODEL with top genes\n",
    "    ##############\n",
    "    X_train = np.array(df[top_genes_train])\n",
    "    y_train = np.array(dfm['Pneum'])\n",
    "    \n",
    "    \n",
    "    ### GET TEST SET, FILTER TO HAVE ONLY TOP FEATURES\n",
    "    ############\n",
    "    X_test, y_test, genes_test, df_test, dfm_test = geteven_xy(test_fpkm, test_meta, celltype=celltype, norm=norm, sampling=False)\n",
    "    X_test = np.array(df_test[top_genes_train])\n",
    "    \n",
    "    ### TESTING WITH ACTUAL (non-jumbled) GENES\n",
    "    ###############\n",
    "    print \"\\n===== Testing =====\"\n",
    "    \n",
    "    if method=='PLSR': \n",
    "        model = PLSRegression(5, scale=True)\n",
    "    elif method=='RandomForests': \n",
    "        model = RandomForestRegressor(n_estimators=n_estimators)\n",
    "    else: \n",
    "        print \"Method {} not recognized\".format(method)\n",
    "\n",
    "    model.fit(X_train, y_train)\n",
    "    y_pred = model.predict(X_test)\n",
    "    auroc_data = auroc_calc(y_test, y_pred, print_stats=True)\n",
    "\n",
    "    return auroc_data"
   ]
  },
  {
   "cell_type": "markdown",
   "metadata": {},
   "source": [
    "### Calculate cross-validation metrics, retrieve top genes"
   ]
  },
  {
   "cell_type": "code",
   "execution_count": 22,
   "metadata": {
    "collapsed": false
   },
   "outputs": [],
   "source": [
    "def get_top_genes_cross_validation(X, y, n_pcs, n_estimators, n_top_genes, method='PLSR', cross_validation='LOO', k=5, n_splits=10):\n",
    "\n",
    "    '''\n",
    "    This function takes X and y data, and does cross-validation \n",
    "    to get training statistics and a list of the n_top_genes most predictive genes. \n",
    "    \n",
    "    Can do leave-one-out cross-validation ('LOO') or k-folds ('Kfold')\n",
    "    Can do PLSR or RandomForests\n",
    "    '''\n",
    "    \n",
    "    n_samples = len(X)\n",
    "    pred = []\n",
    "    feat_inds_all = []\n",
    "    #print X.shape, y.shape\n",
    "    \n",
    "    ### Leave-One-Out Cross-validation\n",
    "    \n",
    "    if cross_validation=='LOO':\n",
    "        for sample in range(n_samples):\n",
    "            samples = range(n_samples)\n",
    "            samples.remove(sample)\n",
    "            X_train = X[(samples)]\n",
    "            y_train = y[(samples)]\n",
    "            #print X_t.shape    \n",
    "\n",
    "            if method=='PLSR':### Get VIPs for model built without the LOO sample\n",
    "                plsv = PLSRegression(n_pcs, scale=False)\n",
    "                plsv.fit(X_train, y_train)\n",
    "                vips = vipp(X_train, y_train, plsv.x_scores_, plsv.x_weights_)\n",
    "                vips = [float(v) for v in vips]\n",
    "                vip_inds = np.argsort(vips)[::-1][:n_top_genes]\n",
    "                feat_inds_all.append(vip_inds)\n",
    "\n",
    "                ### Xn takes the original X to get the loo sample\n",
    "                X_top_features = X.T[vip_inds].T\n",
    "                loo_sample = np.array(X_top_features[sample]).reshape((1,-1))\n",
    "\n",
    "                ### Filter the samples \n",
    "                X_train_top_features = X_train.T[vip_inds].T\n",
    "                pls = PLSRegression(n_pcs, scale=False)\n",
    "                pls.fit(X_train_top_features, y_train)\n",
    "                pred.append(float(pls.predict(loo_sample)))\n",
    "\n",
    "\n",
    "            elif method=='RandomForests':        ### Get VIPs for model built without the LOO sample\n",
    "                rfc = RandomForestRegressor(n_estimators=n_estimators)\n",
    "                rfc.fit(X_train, y_train)\n",
    "                feat_imp = rfc.feature_importances_\n",
    "                feat_inds = np.argsort(feat_imp)[::-1][:n_top_genes]\n",
    "                feat_inds_all.append(feat_inds)\n",
    "                \n",
    "                ### Xn takes the original X to get the loo sample\n",
    "                X_top_features = X.T[feat_inds].T\n",
    "                loo_sample = np.array(X_top_features[sample]).reshape((1,-1))\n",
    "\n",
    "                ### Filter the samples \n",
    "                X_train_top_features = X_train.T[feat_inds].T\n",
    "                rfc = RandomForestRegressor(n_estimators=n_estimators)\n",
    "                rfc.fit(X_train_top_features, y_train)\n",
    "\n",
    "                #print \"prediction: \", float(rfc.predict(loo_sample))\n",
    "                pred.append(float(rfc.predict(loo_sample)))\n",
    "\n",
    "            else:\n",
    "                print \"Method {} not found\".format(method)\n",
    "\n",
    "    elif cross_validation=='Kfold':\n",
    "        y_k = []\n",
    "        for ki in range(n_splits):\n",
    "            sample_ind = range(n_samples)\n",
    "            withheld_samples = random.sample(sample_ind, k)\n",
    "            lo_samples = X[withheld_samples]\n",
    "            for s in withheld_samples:\n",
    "                sample_ind.remove(s)\n",
    "            X_train = X[(sample_ind)]\n",
    "            y_train = y[(sample_ind)]\n",
    "            \n",
    "            if method=='PLSR':\n",
    "                model = PLSRegression(n_pcs, scale=False)\n",
    "                model.fit(X_train, y_train)\n",
    "                vips = vipp(X_train, y_train, model.x_scores_, model.x_weights_)\n",
    "                vips = [float(v) for v in vips]\n",
    "                vip_inds = np.argsort(vips)[::-1][:n_top_genes]\n",
    "                feat_inds_all.append(vip_inds)\n",
    "\n",
    "                ### Filter the samples \n",
    "                X_train_top_features = X_train.T[vip_inds].T\n",
    "                model = PLSRegression(n_pcs, scale=False)\n",
    "                model.fit(X_train_top_features, y_train)\n",
    "                #pred.append(float(.predict(loo_sample)))\n",
    "                \n",
    "                ### Xn takes the original X to get the loo sample\n",
    "                X_top_features = X.T[vip_inds].T\n",
    "                \n",
    "            elif method=='RandomForests':\n",
    "                model = RandomForestRegressor(n_estimators=n_estimators)\n",
    "                feat_imp = rfc.feature_importances_\n",
    "                feat_inds = np.argsort(feat_imp)[::-1][:n_top_genes]\n",
    "                feat_inds_all.append(feat_inds)\n",
    "                \n",
    "                ### Filter the samples \n",
    "                X_train_top_features = X_train.T[vip_inds].T\n",
    "                model = PLSRegression(n_pcs, scale=False)\n",
    "                model.fit(X_train_top_features, y_train)\n",
    "                \n",
    "                X_top_features = X.T[vip_inds].T\n",
    "                \n",
    "            elif method=='SVM':\n",
    "                model = SVC()\n",
    "            else:\n",
    "                print \"Method not found\"\n",
    "            \n",
    "            for s in withheld_samples:\n",
    "                pred.append(float(model.predict(X_top_features[s].reshape((1, -1)))))\n",
    "                y_k.append(y[s])\n",
    "        y = y_k\n",
    "\n",
    "    return feat_inds_all\n"
   ]
  },
  {
   "cell_type": "markdown",
   "metadata": {},
   "source": [
    "### Calculation the Area Under Reciever Operating Curve (AUROC)"
   ]
  },
  {
   "cell_type": "code",
   "execution_count": 23,
   "metadata": {
    "collapsed": true
   },
   "outputs": [],
   "source": [
    "def auroc_calc(y_test, y_pred, print_stats=False):\n",
    "\n",
    "    neg_preds = sorted([y_pred[i] for i in range(len(y_pred)) if y_test[i]==0])\n",
    "    pos_preds = sorted([y_pred[i] for i in range(len(y_pred)) if y_test[i]==1])\n",
    "    \n",
    "    ### Plot predictions\n",
    "    plt.plot(neg_preds, label='neg')\n",
    "    plt.plot(pos_preds, label='pos')\n",
    "    plt.xlabel(\"Sample index\")\n",
    "    plt.ylabel(\"Prediction\")\n",
    "    plt.legend()\n",
    "    \n",
    "    ### Iterate over various cutoffs (c) (default is c=0.5)\n",
    "    ### Analogous to lowering and raising a horizontal bar in the prediction figure above.\n",
    "    \n",
    "    auroc_data = []\n",
    "    ### range here must be beyond [0,1] if there are predictions outside that range\n",
    "    for c in np.arange(-1, 2, 0.01):\n",
    "        \n",
    "        # TPR = # correctly classified negatives / total negatives\n",
    "        neg_corr = sum([(pred < c) for pred in neg_preds])\n",
    "        TNR = float(neg_corr) / len(neg_preds)\n",
    "        \n",
    "        pos_corr = sum([(e > c) for e in pos_preds])\n",
    "        FNR = 1 - ( float(pos_corr) / len(pos_preds) )\n",
    "                   \n",
    "        auroc_data.append((FNR, TNR))\n",
    "\n",
    "    return auroc_data"
   ]
  },
  {
   "cell_type": "markdown",
   "metadata": {},
   "source": [
    "### Now actually run functions "
   ]
  },
  {
   "cell_type": "markdown",
   "metadata": {},
   "source": [
    "### AM,"
   ]
  },
  {
   "cell_type": "code",
   "execution_count": 25,
   "metadata": {
    "collapsed": false,
    "scrolled": false
   },
   "outputs": [
    {
     "name": "stdout",
     "output_type": "stream",
     "text": [
      "Model =  AM\n",
      "Method =  RandomForests\n",
      "Normalization =  zscore\n",
      "Num pos after sampling: 14\n",
      "Num neg after sampling: 35\n",
      "Num pos after sampling: 6\n",
      "Num neg after sampling: 14\n",
      "\n",
      "===== Testing =====\n"
     ]
    },
    {
     "data": {
      "image/png": "[encoded data removed]",
      "text/plain": [
       "<matplotlib.figure.Figure at 0x10b3b1f50>"
      ]
     },
     "metadata": {},
     "output_type": "display_data"
    }
   ],
   "source": [
    "auroc_rf_am_11 = run_model(celltype='AM', response='original', n_top_genes=11, jumble_train=False, method='RandomForests', \n",
    "                       norm='zscore', random_genes=False, jumble_test=False, sampling='', cross_validation='LOO')"
   ]
  },
  {
   "cell_type": "markdown",
   "metadata": {},
   "source": [
    "## Plot AUROC Curves"
   ]
  },
  {
   "cell_type": "code",
   "execution_count": 15,
   "metadata": {
    "collapsed": false
   },
   "outputs": [
    {
     "ename": "NameError",
     "evalue": "name 'auroc_rf_am_11' is not defined",
     "output_type": "error",
     "traceback": [
      "\u001b[0;31m---------------------------------------------------------------------------\u001b[0m",
      "\u001b[0;31mNameError\u001b[0m                                 Traceback (most recent call last)",
      "\u001b[0;32m<ipython-input-15-54f6199b5ae2>\u001b[0m in \u001b[0;36m<module>\u001b[0;34m()\u001b[0m\n\u001b[1;32m      1\u001b[0m \u001b[0;34m\u001b[0m\u001b[0m\n\u001b[1;32m      2\u001b[0m \u001b[0;31m#plt.plot(*zip(*auroc_rf_am_100), label='100 genes')\u001b[0m\u001b[0;34m\u001b[0m\u001b[0;34m\u001b[0m\u001b[0m\n\u001b[0;32m----> 3\u001b[0;31m \u001b[0mplt\u001b[0m\u001b[0;34m.\u001b[0m\u001b[0mplot\u001b[0m\u001b[0;34m(\u001b[0m\u001b[0;34m*\u001b[0m\u001b[0mzip\u001b[0m\u001b[0;34m(\u001b[0m\u001b[0;34m*\u001b[0m\u001b[0mauroc_rf_am_11\u001b[0m\u001b[0;34m)\u001b[0m\u001b[0;34m,\u001b[0m \u001b[0mlabel\u001b[0m\u001b[0;34m=\u001b[0m\u001b[0;34m'11 genes'\u001b[0m\u001b[0;34m)\u001b[0m\u001b[0;34m\u001b[0m\u001b[0m\n\u001b[0m\u001b[1;32m      4\u001b[0m \u001b[0;31m#plt.plot(*zip(*auroc_rf_am_5), label='5 genes')\u001b[0m\u001b[0;34m\u001b[0m\u001b[0;34m\u001b[0m\u001b[0m\n\u001b[1;32m      5\u001b[0m \u001b[0mplt\u001b[0m\u001b[0;34m.\u001b[0m\u001b[0mplot\u001b[0m\u001b[0;34m(\u001b[0m\u001b[0;34m*\u001b[0m\u001b[0mzip\u001b[0m\u001b[0;34m(\u001b[0m\u001b[0;34m*\u001b[0m\u001b[0;34m[\u001b[0m\u001b[0;34m(\u001b[0m\u001b[0mi\u001b[0m\u001b[0;34m,\u001b[0m \u001b[0mi\u001b[0m\u001b[0;34m)\u001b[0m \u001b[0;32mfor\u001b[0m \u001b[0mi\u001b[0m \u001b[0;32min\u001b[0m \u001b[0mnp\u001b[0m\u001b[0;34m.\u001b[0m\u001b[0marange\u001b[0m\u001b[0;34m(\u001b[0m\u001b[0;36m0\u001b[0m\u001b[0;34m,\u001b[0m\u001b[0;36m1.05\u001b[0m\u001b[0;34m,\u001b[0m\u001b[0;36m1\u001b[0m\u001b[0;34m)\u001b[0m\u001b[0;34m]\u001b[0m\u001b[0;34m)\u001b[0m\u001b[0;34m)\u001b[0m\u001b[0;34m\u001b[0m\u001b[0m\n",
      "\u001b[0;31mNameError\u001b[0m: name 'auroc_rf_am_11' is not defined"
     ]
    }
   ],
   "source": [
    "\n",
    "#plt.plot(*zip(*auroc_rf_am_100), label='100 genes')\n",
    "plt.plot(*zip(*auroc_rf_am_11), label='11 genes')\n",
    "#plt.plot(*zip(*auroc_rf_am_5), label='5 genes')\n",
    "plt.plot(*zip(*[(i, i) for i in np.arange(0,1.05,1)]))\n",
    "plt.title(\"AUROC, AM models\")\n",
    "plt.xlabel(\"False Negative Rate\")\n",
    "plt.ylabel(\"True Negative Rate\")\n",
    "plt.legend(bbox_to_anchor=(1.2, 0.5))\n"
   ]
  },
  {
   "cell_type": "markdown",
   "metadata": {},
   "source": [
    "   ### CD163, PLSR"
   ]
  },
  {
   "cell_type": "code",
   "execution_count": 26,
   "metadata": {
    "collapsed": false,
    "scrolled": true
   },
   "outputs": [
    {
     "ename": "TypeError",
     "evalue": "run_model() got an unexpected keyword argument 'zero_train'",
     "output_type": "error",
     "traceback": [
      "\u001b[0;31m---------------------------------------------------------------------------\u001b[0m",
      "\u001b[0;31mTypeError\u001b[0m                                 Traceback (most recent call last)",
      "\u001b[0;32m<ipython-input-26-b526b0e33386>\u001b[0m in \u001b[0;36m<module>\u001b[0;34m()\u001b[0m\n\u001b[1;32m      1\u001b[0m auroc_163_rf_11 = run_model(celltype='CD163', response='original', n_top_genes=11, jumble_train=False, zero_train=False, method='RandomForests', \n\u001b[0;32m----> 2\u001b[0;31m                        norm='zscore', random_genes=False, jumble_test=False, sampling='', cross_validation='LOO')\n\u001b[0m",
      "\u001b[0;31mTypeError\u001b[0m: run_model() got an unexpected keyword argument 'zero_train'"
     ]
    }
   ],
   "source": [
    "auroc_163_rf_11 = run_model(celltype='CD163', response='original', n_top_genes=11, jumble_train=False, zero_train=False, method='RandomForests', \n",
    "                       norm='zscore', random_genes=False, jumble_test=False, sampling='', cross_validation='LOO')"
   ]
  },
  {
   "cell_type": "code",
   "execution_count": 37,
   "metadata": {
    "collapsed": false
   },
   "outputs": [
    {
     "data": {
      "text/plain": [
       "<matplotlib.legend.Legend at 0x10c660790>"
      ]
     },
     "execution_count": 37,
     "metadata": {},
     "output_type": "execute_result"
    },
    {
     "data": {
      "image/png": "[encoded data removed]",
      "text/plain": [
       "<matplotlib.figure.Figure at 0x10bdd7d10>"
      ]
     },
     "metadata": {},
     "output_type": "display_data"
    }
   ],
   "source": [
    "#plt.plot(*zip(*auroc_163_oral_PLSR), label='oral PLS')\n",
    "#plt.plot(*zip(*auroc_163_rf_100), label='100 genes')\n",
    "plt.plot(*zip(*auroc_163_rf_11), label='11 genes')\n",
    "#plt.plot(*zip(*auroc_163_oral_RF), label='oral RF')\n",
    "#plt.plot(*zip(*auroc_163_RF), label='RF')\n",
    "plt.plot(*zip(*[(i, i) for i in np.arange(0,1.05,1)]))\n",
    "plt.title(\"AUROC, CD163+ models\")\n",
    "plt.xlabel(\"False Negative Rate\")\n",
    "plt.ylabel(\"True Negative Rate\")\n",
    "plt.legend(bbox_to_anchor=(1.2, 0.5))"
   ]
  }
 ],
 "metadata": {
  "anaconda-cloud": {},
  "kernelspec": {
   "display_name": "Python [default]",
   "language": "python",
   "name": "python2"
  },
  "language_info": {
   "codemirror_mode": {
    "name": "ipython",
    "version": 2
   },
   "file_extension": ".py",
   "mimetype": "text/x-python",
   "name": "python",
   "nbconvert_exporter": "python",
   "pygments_lexer": "ipython2",
   "version": "2.7.12"
  }
 },
 "nbformat": 4,
 "nbformat_minor": 0
}
